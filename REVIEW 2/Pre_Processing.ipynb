{
 "cells": [
  {
   "cell_type": "code",
   "execution_count": 1,
   "metadata": {},
   "outputs": [],
   "source": [
    "import pandas as pd\n",
    "import numpy as np\n",
    "from sklearn.preprocessing import StandardScaler as sc"
   ]
  },
  {
   "cell_type": "code",
   "execution_count": 2,
   "metadata": {},
   "outputs": [],
   "source": [
    "db_b=pd.read_csv('benign.csv')\n",
    "db_m=pd.read_csv('malicious.csv')\n"
   ]
  },
  {
   "cell_type": "code",
   "execution_count": 3,
   "metadata": {},
   "outputs": [
    {
     "data": {
      "text/plain": [
       "Index(['SourceIP', 'DestinationIP', 'SourcePort', 'DestinationPort',\n",
       "       'TimeStamp', 'Duration', 'FlowBytesSent', 'FlowSentRate',\n",
       "       'FlowBytesReceived', 'FlowReceivedRate', 'PacketLengthVariance',\n",
       "       'PacketLengthStandardDeviation', 'PacketLengthMean',\n",
       "       'PacketLengthMedian', 'PacketLengthMode', 'PacketLengthSkewFromMedian',\n",
       "       'PacketLengthSkewFromMode', 'PacketLengthCoefficientofVariation',\n",
       "       'PacketTimeVariance', 'PacketTimeStandardDeviation', 'PacketTimeMean',\n",
       "       'PacketTimeMedian', 'PacketTimeMode', 'PacketTimeSkewFromMedian',\n",
       "       'PacketTimeSkewFromMode', 'PacketTimeCoefficientofVariation',\n",
       "       'ResponseTimeTimeVariance', 'ResponseTimeTimeStandardDeviation',\n",
       "       'ResponseTimeTimeMean', 'ResponseTimeTimeMedian',\n",
       "       'ResponseTimeTimeMode', 'ResponseTimeTimeSkewFromMedian',\n",
       "       'ResponseTimeTimeSkewFromMode',\n",
       "       'ResponseTimeTimeCoefficientofVariation', 'Label'],\n",
       "      dtype='object')"
      ]
     },
     "execution_count": 3,
     "metadata": {},
     "output_type": "execute_result"
    }
   ],
   "source": [
    "db_b.columns"
   ]
  },
  {
   "cell_type": "code",
   "execution_count": 4,
   "metadata": {},
   "outputs": [],
   "source": [
    "db=db_b.append(db_m, ignore_index=True)"
   ]
  },
  {
   "cell_type": "code",
   "execution_count": 5,
   "metadata": {},
   "outputs": [],
   "source": [
    "db.fillna('', inplace=True)"
   ]
  },
  {
   "cell_type": "code",
   "execution_count": 6,
   "metadata": {},
   "outputs": [],
   "source": [
    "db=db.sample(frac=1)"
   ]
  },
  {
   "cell_type": "code",
   "execution_count": 8,
   "metadata": {},
   "outputs": [
    {
     "data": {
      "text/html": [
       "<div>\n",
       "<style scoped>\n",
       "    .dataframe tbody tr th:only-of-type {\n",
       "        vertical-align: middle;\n",
       "    }\n",
       "\n",
       "    .dataframe tbody tr th {\n",
       "        vertical-align: top;\n",
       "    }\n",
       "\n",
       "    .dataframe thead th {\n",
       "        text-align: right;\n",
       "    }\n",
       "</style>\n",
       "<table border=\"1\" class=\"dataframe\">\n",
       "  <thead>\n",
       "    <tr style=\"text-align: right;\">\n",
       "      <th></th>\n",
       "      <th>SourceIP</th>\n",
       "      <th>DestinationIP</th>\n",
       "      <th>SourcePort</th>\n",
       "      <th>DestinationPort</th>\n",
       "      <th>TimeStamp</th>\n",
       "      <th>Duration</th>\n",
       "      <th>FlowBytesSent</th>\n",
       "      <th>FlowSentRate</th>\n",
       "      <th>FlowBytesReceived</th>\n",
       "      <th>FlowReceivedRate</th>\n",
       "      <th>...</th>\n",
       "      <th>PacketTimeCoefficientofVariation</th>\n",
       "      <th>ResponseTimeTimeVariance</th>\n",
       "      <th>ResponseTimeTimeStandardDeviation</th>\n",
       "      <th>ResponseTimeTimeMean</th>\n",
       "      <th>ResponseTimeTimeMedian</th>\n",
       "      <th>ResponseTimeTimeMode</th>\n",
       "      <th>ResponseTimeTimeSkewFromMedian</th>\n",
       "      <th>ResponseTimeTimeSkewFromMode</th>\n",
       "      <th>ResponseTimeTimeCoefficientofVariation</th>\n",
       "      <th>Label</th>\n",
       "    </tr>\n",
       "  </thead>\n",
       "  <tbody>\n",
       "    <tr>\n",
       "      <th>200825</th>\n",
       "      <td>9.9.9.11</td>\n",
       "      <td>192.168.20.212</td>\n",
       "      <td>443</td>\n",
       "      <td>60364</td>\n",
       "      <td>2020-03-25 01:16:29</td>\n",
       "      <td>120.058467</td>\n",
       "      <td>394025</td>\n",
       "      <td>3281.942622</td>\n",
       "      <td>201716</td>\n",
       "      <td>1680.148057</td>\n",
       "      <td>...</td>\n",
       "      <td>0.578804</td>\n",
       "      <td>2.382009e-08</td>\n",
       "      <td>0.000154</td>\n",
       "      <td>0.000055</td>\n",
       "      <td>4.5e-05</td>\n",
       "      <td>0.000045</td>\n",
       "      <td>0.202398</td>\n",
       "      <td>0.067466</td>\n",
       "      <td>2.785246</td>\n",
       "      <td>Malicious</td>\n",
       "    </tr>\n",
       "    <tr>\n",
       "      <th>242379</th>\n",
       "      <td>1.1.1.1</td>\n",
       "      <td>192.168.20.207</td>\n",
       "      <td>443</td>\n",
       "      <td>51394</td>\n",
       "      <td>2020-03-20 20:31:33</td>\n",
       "      <td>120.047660</td>\n",
       "      <td>219795</td>\n",
       "      <td>1830.897828</td>\n",
       "      <td>41139</td>\n",
       "      <td>342.688895</td>\n",
       "      <td>...</td>\n",
       "      <td>0.561276</td>\n",
       "      <td>2.283487e-01</td>\n",
       "      <td>0.477858</td>\n",
       "      <td>0.396186</td>\n",
       "      <td>6.6e-05</td>\n",
       "      <td>0.000027</td>\n",
       "      <td>2.48685</td>\n",
       "      <td>0.829030</td>\n",
       "      <td>1.206146</td>\n",
       "      <td>Malicious</td>\n",
       "    </tr>\n",
       "    <tr>\n",
       "      <th>229463</th>\n",
       "      <td>192.168.20.212</td>\n",
       "      <td>9.9.9.11</td>\n",
       "      <td>42458</td>\n",
       "      <td>443</td>\n",
       "      <td>2020-03-31 21:06:36</td>\n",
       "      <td>34.946188</td>\n",
       "      <td>1883</td>\n",
       "      <td>53.882844</td>\n",
       "      <td>4828</td>\n",
       "      <td>138.155269</td>\n",
       "      <td>...</td>\n",
       "      <td>1.462533</td>\n",
       "      <td>5.281044e-05</td>\n",
       "      <td>0.007267</td>\n",
       "      <td>0.010452</td>\n",
       "      <td>0.015273</td>\n",
       "      <td>0.000029</td>\n",
       "      <td>-1.99025</td>\n",
       "      <td>1.434261</td>\n",
       "      <td>0.695289</td>\n",
       "      <td>Malicious</td>\n",
       "    </tr>\n",
       "    <tr>\n",
       "      <th>245194</th>\n",
       "      <td>1.1.1.1</td>\n",
       "      <td>192.168.20.210</td>\n",
       "      <td>443</td>\n",
       "      <td>41550</td>\n",
       "      <td>2020-03-29 05:36:24</td>\n",
       "      <td>37.520967</td>\n",
       "      <td>485</td>\n",
       "      <td>12.926106</td>\n",
       "      <td>304</td>\n",
       "      <td>8.102137</td>\n",
       "      <td>...</td>\n",
       "      <td>0.408583</td>\n",
       "      <td>5.691980e+01</td>\n",
       "      <td>7.544521</td>\n",
       "      <td>7.544563</td>\n",
       "      <td>7.54456</td>\n",
       "      <td>0.000027</td>\n",
       "      <td>5.96459e-07</td>\n",
       "      <td>1.000002</td>\n",
       "      <td>0.999994</td>\n",
       "      <td>Malicious</td>\n",
       "    </tr>\n",
       "    <tr>\n",
       "      <th>93845</th>\n",
       "      <td>192.168.20.212</td>\n",
       "      <td>8.8.4.4</td>\n",
       "      <td>38332</td>\n",
       "      <td>443</td>\n",
       "      <td>2020-03-18 13:05:09</td>\n",
       "      <td>91.691830</td>\n",
       "      <td>493340</td>\n",
       "      <td>5380.413937</td>\n",
       "      <td>899119</td>\n",
       "      <td>9805.879106</td>\n",
       "      <td>...</td>\n",
       "      <td>0.576610</td>\n",
       "      <td>8.967084e-05</td>\n",
       "      <td>0.009469</td>\n",
       "      <td>0.008649</td>\n",
       "      <td>0.01474</td>\n",
       "      <td>0.000115</td>\n",
       "      <td>-1.92966</td>\n",
       "      <td>0.901217</td>\n",
       "      <td>1.094857</td>\n",
       "      <td>Malicious</td>\n",
       "    </tr>\n",
       "  </tbody>\n",
       "</table>\n",
       "<p>5 rows × 35 columns</p>\n",
       "</div>"
      ],
      "text/plain": [
       "              SourceIP   DestinationIP  SourcePort  DestinationPort  \\\n",
       "200825        9.9.9.11  192.168.20.212         443            60364   \n",
       "242379         1.1.1.1  192.168.20.207         443            51394   \n",
       "229463  192.168.20.212        9.9.9.11       42458              443   \n",
       "245194         1.1.1.1  192.168.20.210         443            41550   \n",
       "93845   192.168.20.212         8.8.4.4       38332              443   \n",
       "\n",
       "                  TimeStamp    Duration  FlowBytesSent  FlowSentRate  \\\n",
       "200825  2020-03-25 01:16:29  120.058467         394025   3281.942622   \n",
       "242379  2020-03-20 20:31:33  120.047660         219795   1830.897828   \n",
       "229463  2020-03-31 21:06:36   34.946188           1883     53.882844   \n",
       "245194  2020-03-29 05:36:24   37.520967            485     12.926106   \n",
       "93845   2020-03-18 13:05:09   91.691830         493340   5380.413937   \n",
       "\n",
       "        FlowBytesReceived  FlowReceivedRate  ...  \\\n",
       "200825             201716       1680.148057  ...   \n",
       "242379              41139        342.688895  ...   \n",
       "229463               4828        138.155269  ...   \n",
       "245194                304          8.102137  ...   \n",
       "93845              899119       9805.879106  ...   \n",
       "\n",
       "        PacketTimeCoefficientofVariation  ResponseTimeTimeVariance  \\\n",
       "200825                          0.578804              2.382009e-08   \n",
       "242379                          0.561276              2.283487e-01   \n",
       "229463                          1.462533              5.281044e-05   \n",
       "245194                          0.408583              5.691980e+01   \n",
       "93845                           0.576610              8.967084e-05   \n",
       "\n",
       "        ResponseTimeTimeStandardDeviation  ResponseTimeTimeMean  \\\n",
       "200825                           0.000154              0.000055   \n",
       "242379                           0.477858              0.396186   \n",
       "229463                           0.007267              0.010452   \n",
       "245194                           7.544521              7.544563   \n",
       "93845                            0.009469              0.008649   \n",
       "\n",
       "        ResponseTimeTimeMedian  ResponseTimeTimeMode  \\\n",
       "200825                 4.5e-05              0.000045   \n",
       "242379                 6.6e-05              0.000027   \n",
       "229463                0.015273              0.000029   \n",
       "245194                 7.54456              0.000027   \n",
       "93845                  0.01474              0.000115   \n",
       "\n",
       "        ResponseTimeTimeSkewFromMedian  ResponseTimeTimeSkewFromMode  \\\n",
       "200825                        0.202398                      0.067466   \n",
       "242379                         2.48685                      0.829030   \n",
       "229463                        -1.99025                      1.434261   \n",
       "245194                     5.96459e-07                      1.000002   \n",
       "93845                         -1.92966                      0.901217   \n",
       "\n",
       "        ResponseTimeTimeCoefficientofVariation      Label  \n",
       "200825                                2.785246  Malicious  \n",
       "242379                                1.206146  Malicious  \n",
       "229463                                0.695289  Malicious  \n",
       "245194                                0.999994  Malicious  \n",
       "93845                                 1.094857  Malicious  \n",
       "\n",
       "[5 rows x 35 columns]"
      ]
     },
     "execution_count": 8,
     "metadata": {},
     "output_type": "execute_result"
    }
   ],
   "source": [
    "db.head()"
   ]
  },
  {
   "cell_type": "code",
   "execution_count": 7,
   "metadata": {},
   "outputs": [],
   "source": [
    "db.to_csv(r'C:\\Users\\91742\\Desktop\\Nasscom_Final\\Total-CSVs\\datase_db.csv')"
   ]
  },
  {
   "cell_type": "code",
   "execution_count": 10,
   "metadata": {},
   "outputs": [
    {
     "data": {
      "text/plain": [
       "(19807, 35)"
      ]
     },
     "execution_count": 10,
     "metadata": {},
     "output_type": "execute_result"
    }
   ],
   "source": [
    "db_b.shape"
   ]
  },
  {
   "cell_type": "code",
   "execution_count": 11,
   "metadata": {},
   "outputs": [
    {
     "data": {
      "text/plain": [
       "(249836, 35)"
      ]
     },
     "execution_count": 11,
     "metadata": {},
     "output_type": "execute_result"
    }
   ],
   "source": [
    "db_m.shape"
   ]
  },
  {
   "cell_type": "code",
   "execution_count": 8,
   "metadata": {},
   "outputs": [
    {
     "data": {
      "text/plain": [
       "(269643, 35)"
      ]
     },
     "execution_count": 8,
     "metadata": {},
     "output_type": "execute_result"
    }
   ],
   "source": [
    "db.shape"
   ]
  },
  {
   "cell_type": "code",
   "execution_count": 9,
   "metadata": {},
   "outputs": [
    {
     "data": {
      "text/plain": [
       "192.168.20.144     63876\n",
       "192.168.20.204     24239\n",
       "1.1.1.1            17593\n",
       "8.8.4.4            16027\n",
       "192.168.20.205     14772\n",
       "192.168.20.207     14601\n",
       "192.168.20.206     14521\n",
       "192.168.20.208     14461\n",
       "192.168.20.209     14454\n",
       "192.168.20.211     14209\n",
       "192.168.20.210     14130\n",
       "192.168.20.212     13488\n",
       "192.168.20.111     10982\n",
       "176.103.130.130     8705\n",
       "9.9.9.11            5760\n",
       "192.168.20.191      3402\n",
       "192.168.20.113      2132\n",
       "8.8.8.8             1338\n",
       "192.168.20.112       890\n",
       "9.9.9.9               48\n",
       "176.103.130.131       15\n",
       "Name: SourceIP, dtype: int64"
      ]
     },
     "execution_count": 9,
     "metadata": {},
     "output_type": "execute_result"
    }
   ],
   "source": [
    "db['SourceIP'].value_counts()"
   ]
  },
  {
   "cell_type": "code",
   "execution_count": 10,
   "metadata": {},
   "outputs": [],
   "source": [
    "freq=['192.168.20.144','192.168.20.204','1.1.1.1','8.8.4.4','192.168.20.205','192.168.20.207']"
   ]
  },
  {
   "cell_type": "code",
   "execution_count": 11,
   "metadata": {},
   "outputs": [
    {
     "name": "stderr",
     "output_type": "stream",
     "text": [
      "<ipython-input-11-31d20312d026>:3: SettingWithCopyWarning: \n",
      "A value is trying to be set on a copy of a slice from a DataFrame\n",
      "\n",
      "See the caveats in the documentation: https://pandas.pydata.org/pandas-docs/stable/user_guide/indexing.html#returning-a-view-versus-a-copy\n",
      "  db['SourceIP'][i]='not_freq'\n"
     ]
    }
   ],
   "source": [
    "for i in range (0,len(db)):\n",
    "    if(db['SourceIP'][i] not in freq):\n",
    "        db['SourceIP'][i]='not_freq'\n",
    "ip_dummies = pd.get_dummies(db['SourceIP'])\n",
    "ip_dummies = ip_dummies.rename(columns = {\"192.168.20.144\":\"ip_144\",\"192.168.20.204\":\"ip_204\",\"1.1.1.1\":\"ip_1\",\"8.8.4.4\":\"ip_8\", \"192.168.20.205\":\"ip_205\", \"192.168.20.207\":\"ip_207\"})"
   ]
  },
  {
   "cell_type": "code",
   "execution_count": 12,
   "metadata": {},
   "outputs": [
    {
     "data": {
      "text/html": [
       "<div>\n",
       "<style scoped>\n",
       "    .dataframe tbody tr th:only-of-type {\n",
       "        vertical-align: middle;\n",
       "    }\n",
       "\n",
       "    .dataframe tbody tr th {\n",
       "        vertical-align: top;\n",
       "    }\n",
       "\n",
       "    .dataframe thead th {\n",
       "        text-align: right;\n",
       "    }\n",
       "</style>\n",
       "<table border=\"1\" class=\"dataframe\">\n",
       "  <thead>\n",
       "    <tr style=\"text-align: right;\">\n",
       "      <th></th>\n",
       "      <th>ip_1</th>\n",
       "      <th>ip_144</th>\n",
       "      <th>ip_204</th>\n",
       "      <th>ip_205</th>\n",
       "      <th>ip_207</th>\n",
       "      <th>ip_8</th>\n",
       "      <th>not_freq</th>\n",
       "    </tr>\n",
       "  </thead>\n",
       "  <tbody>\n",
       "    <tr>\n",
       "      <th>251170</th>\n",
       "      <td>0</td>\n",
       "      <td>0</td>\n",
       "      <td>0</td>\n",
       "      <td>0</td>\n",
       "      <td>0</td>\n",
       "      <td>0</td>\n",
       "      <td>1</td>\n",
       "    </tr>\n",
       "    <tr>\n",
       "      <th>250984</th>\n",
       "      <td>0</td>\n",
       "      <td>1</td>\n",
       "      <td>0</td>\n",
       "      <td>0</td>\n",
       "      <td>0</td>\n",
       "      <td>0</td>\n",
       "      <td>0</td>\n",
       "    </tr>\n",
       "    <tr>\n",
       "      <th>90316</th>\n",
       "      <td>0</td>\n",
       "      <td>1</td>\n",
       "      <td>0</td>\n",
       "      <td>0</td>\n",
       "      <td>0</td>\n",
       "      <td>0</td>\n",
       "      <td>0</td>\n",
       "    </tr>\n",
       "    <tr>\n",
       "      <th>6366</th>\n",
       "      <td>0</td>\n",
       "      <td>0</td>\n",
       "      <td>0</td>\n",
       "      <td>0</td>\n",
       "      <td>0</td>\n",
       "      <td>0</td>\n",
       "      <td>1</td>\n",
       "    </tr>\n",
       "    <tr>\n",
       "      <th>135318</th>\n",
       "      <td>0</td>\n",
       "      <td>1</td>\n",
       "      <td>0</td>\n",
       "      <td>0</td>\n",
       "      <td>0</td>\n",
       "      <td>0</td>\n",
       "      <td>0</td>\n",
       "    </tr>\n",
       "  </tbody>\n",
       "</table>\n",
       "</div>"
      ],
      "text/plain": [
       "        ip_1  ip_144  ip_204  ip_205  ip_207  ip_8  not_freq\n",
       "251170     0       0       0       0       0     0         1\n",
       "250984     0       1       0       0       0     0         0\n",
       "90316      0       1       0       0       0     0         0\n",
       "6366       0       0       0       0       0     0         1\n",
       "135318     0       1       0       0       0     0         0"
      ]
     },
     "execution_count": 12,
     "metadata": {},
     "output_type": "execute_result"
    }
   ],
   "source": [
    "ip_dummies.head()"
   ]
  },
  {
   "cell_type": "code",
   "execution_count": 13,
   "metadata": {},
   "outputs": [],
   "source": [
    "db_create=ip_dummies"
   ]
  },
  {
   "cell_type": "code",
   "execution_count": 14,
   "metadata": {},
   "outputs": [
    {
     "data": {
      "text/plain": [
       "9.9.9.11           150932\n",
       "8.8.4.4             26044\n",
       "176.103.130.130     16290\n",
       "1.1.1.1             13633\n",
       "8.8.8.8             10177\n",
       "192.168.20.144       9855\n",
       "192.168.20.206       4536\n",
       "192.168.20.205       4461\n",
       "192.168.20.204       4457\n",
       "192.168.20.207       4322\n",
       "192.168.20.208       4011\n",
       "192.168.20.211       3944\n",
       "192.168.20.209       3942\n",
       "192.168.20.210       3870\n",
       "192.168.20.212       3687\n",
       "9.9.9.9              2947\n",
       "192.168.20.111       1353\n",
       "192.168.20.113        459\n",
       "192.168.20.112        457\n",
       "176.103.130.131       134\n",
       "192.168.20.191        132\n",
       "Name: DestinationIP, dtype: int64"
      ]
     },
     "execution_count": 14,
     "metadata": {},
     "output_type": "execute_result"
    }
   ],
   "source": [
    "db['DestinationIP'].value_counts()"
   ]
  },
  {
   "cell_type": "code",
   "execution_count": 15,
   "metadata": {},
   "outputs": [],
   "source": [
    "freq_dest=['9.9.9.11', '8.8.4.4']"
   ]
  },
  {
   "cell_type": "code",
   "execution_count": 16,
   "metadata": {},
   "outputs": [],
   "source": [
    "freq_dest_2=['176.103.130.130', '1.1.1.1','8.8.8.8']"
   ]
  },
  {
   "cell_type": "code",
   "execution_count": 17,
   "metadata": {},
   "outputs": [
    {
     "name": "stderr",
     "output_type": "stream",
     "text": [
      "<ipython-input-17-055b59aa45c0>:5: SettingWithCopyWarning: \n",
      "A value is trying to be set on a copy of a slice from a DataFrame\n",
      "\n",
      "See the caveats in the documentation: https://pandas.pydata.org/pandas-docs/stable/user_guide/indexing.html#returning-a-view-versus-a-copy\n",
      "  db['DestinationIP'][i] = 'not_dest_freq'\n",
      "<ipython-input-17-055b59aa45c0>:3: SettingWithCopyWarning: \n",
      "A value is trying to be set on a copy of a slice from a DataFrame\n",
      "\n",
      "See the caveats in the documentation: https://pandas.pydata.org/pandas-docs/stable/user_guide/indexing.html#returning-a-view-versus-a-copy\n",
      "  db['DestinationIP'][i] = 'dest_ip_130_1_8'\n"
     ]
    }
   ],
   "source": [
    "for i in range (0,len(db)):\n",
    "    if(db['DestinationIP'][i]  in freq_dest_2):\n",
    "        db['DestinationIP'][i] = 'dest_ip_130_1_8'\n",
    "    elif(db['DestinationIP'][i] not in freq_dest):\n",
    "        db['DestinationIP'][i] = 'not_dest_freq'\n"
   ]
  },
  {
   "cell_type": "code",
   "execution_count": 18,
   "metadata": {},
   "outputs": [],
   "source": [
    "destination_dummy=pd.get_dummies(db['DestinationIP'])"
   ]
  },
  {
   "cell_type": "code",
   "execution_count": 19,
   "metadata": {},
   "outputs": [],
   "source": [
    "destination_dummy = destination_dummy.rename(columns = {\"9.9.9.11\":\"ip_11\",\"8.8.4.4\":\"ip_4\"})"
   ]
  },
  {
   "cell_type": "code",
   "execution_count": 20,
   "metadata": {},
   "outputs": [],
   "source": [
    "db_create=pd.concat([db_create,destination_dummy], axis = 1)"
   ]
  },
  {
   "cell_type": "code",
   "execution_count": 21,
   "metadata": {},
   "outputs": [
    {
     "data": {
      "text/plain": [
       "443      49486\n",
       "58759       73\n",
       "41618       60\n",
       "44886       60\n",
       "40378       53\n",
       "         ...  \n",
       "63314        1\n",
       "64686        1\n",
       "61443        1\n",
       "60121        1\n",
       "59999        1\n",
       "Name: SourcePort, Length: 15446, dtype: int64"
      ]
     },
     "execution_count": 21,
     "metadata": {},
     "output_type": "execute_result"
    }
   ],
   "source": [
    "db['SourcePort'].value_counts()"
   ]
  },
  {
   "cell_type": "code",
   "execution_count": 22,
   "metadata": {},
   "outputs": [
    {
     "name": "stderr",
     "output_type": "stream",
     "text": [
      "<ipython-input-22-522c55c71581>:3: SettingWithCopyWarning: \n",
      "A value is trying to be set on a copy of a slice from a DataFrame\n",
      "\n",
      "See the caveats in the documentation: https://pandas.pydata.org/pandas-docs/stable/user_guide/indexing.html#returning-a-view-versus-a-copy\n",
      "  db['SourcePort'][i] = 'Wrong_port'\n",
      "C:\\Users\\91742\\anaconda3\\lib\\site-packages\\pandas\\core\\indexing.py:671: SettingWithCopyWarning: \n",
      "A value is trying to be set on a copy of a slice from a DataFrame\n",
      "\n",
      "See the caveats in the documentation: https://pandas.pydata.org/pandas-docs/stable/user_guide/indexing.html#returning-a-view-versus-a-copy\n",
      "  self._setitem_with_indexer(indexer, value)\n",
      "<ipython-input-22-522c55c71581>:5: SettingWithCopyWarning: \n",
      "A value is trying to be set on a copy of a slice from a DataFrame\n",
      "\n",
      "See the caveats in the documentation: https://pandas.pydata.org/pandas-docs/stable/user_guide/indexing.html#returning-a-view-versus-a-copy\n",
      "  db['SourcePort'][i] = 'port_is_443'\n"
     ]
    }
   ],
   "source": [
    "for i in range (0,len(db)):\n",
    "    if(db['SourcePort'][i] != 443):\n",
    "        db['SourcePort'][i] = 'Wrong_port'\n",
    "    else:\n",
    "        db['SourcePort'][i] = 'port_is_443'\n"
   ]
  },
  {
   "cell_type": "code",
   "execution_count": 23,
   "metadata": {},
   "outputs": [
    {
     "name": "stderr",
     "output_type": "stream",
     "text": [
      "<ipython-input-23-ec0a6933b03d>:5: SettingWithCopyWarning: \n",
      "A value is trying to be set on a copy of a slice from a DataFrame\n",
      "\n",
      "See the caveats in the documentation: https://pandas.pydata.org/pandas-docs/stable/user_guide/indexing.html#returning-a-view-versus-a-copy\n",
      "  db['DestinationPort'][i] = 'port_443'\n",
      "<ipython-input-23-ec0a6933b03d>:3: SettingWithCopyWarning: \n",
      "A value is trying to be set on a copy of a slice from a DataFrame\n",
      "\n",
      "See the caveats in the documentation: https://pandas.pydata.org/pandas-docs/stable/user_guide/indexing.html#returning-a-view-versus-a-copy\n",
      "  db['DestinationPort'][i] = 'Wrong_port'\n"
     ]
    }
   ],
   "source": [
    "for i in range (0,len(db)):        \n",
    "    if(db['DestinationPort'][i] != 443):\n",
    "        db['DestinationPort'][i] = 'Wrong_port'\n",
    "    else:\n",
    "        db['DestinationPort'][i] = 'port_443'"
   ]
  },
  {
   "cell_type": "code",
   "execution_count": 24,
   "metadata": {},
   "outputs": [],
   "source": [
    "source_port_dummy = pd.get_dummies(db['SourcePort'])"
   ]
  },
  {
   "cell_type": "code",
   "execution_count": 25,
   "metadata": {},
   "outputs": [],
   "source": [
    "destination_port_dummy = pd.get_dummies(db['DestinationPort'])"
   ]
  },
  {
   "cell_type": "code",
   "execution_count": 26,
   "metadata": {},
   "outputs": [],
   "source": [
    "destination_port_dummy = destination_port_dummy.rename(columns = {\"port_443\":\"destination_port_443\"})"
   ]
  },
  {
   "cell_type": "code",
   "execution_count": 27,
   "metadata": {},
   "outputs": [],
   "source": [
    "db_create = pd.concat([db_create,source_port_dummy],axis=1)\n",
    "db_create = pd.concat([db_create,destination_port_dummy],axis=1)"
   ]
  },
  {
   "cell_type": "code",
   "execution_count": 32,
   "metadata": {},
   "outputs": [
    {
     "ename": "NameError",
     "evalue": "name 'StandardScaler' is not defined",
     "output_type": "error",
     "traceback": [
      "\u001b[1;31m---------------------------------------------------------------------------\u001b[0m",
      "\u001b[1;31mNameError\u001b[0m                                 Traceback (most recent call last)",
      "\u001b[1;32m<ipython-input-32-dffe3fea8d6a>\u001b[0m in \u001b[0;36m<module>\u001b[1;34m\u001b[0m\n\u001b[1;32m----> 1\u001b[1;33m \u001b[0msc\u001b[0m \u001b[1;33m=\u001b[0m \u001b[0mStandardScaler\u001b[0m\u001b[1;33m(\u001b[0m\u001b[1;33m)\u001b[0m\u001b[1;33m\u001b[0m\u001b[1;33m\u001b[0m\u001b[0m\n\u001b[0m\u001b[0;32m      2\u001b[0m \u001b[1;33m\u001b[0m\u001b[0m\n\u001b[0;32m      3\u001b[0m \u001b[0mdrn_db\u001b[0m \u001b[1;33m=\u001b[0m \u001b[0mdb\u001b[0m\u001b[1;33m[\u001b[0m\u001b[1;33m[\u001b[0m\u001b[1;34m\"Duration\"\u001b[0m\u001b[1;33m]\u001b[0m\u001b[1;33m]\u001b[0m\u001b[1;33m\u001b[0m\u001b[1;33m\u001b[0m\u001b[0m\n\u001b[0;32m      4\u001b[0m \u001b[0mdrn_db\u001b[0m \u001b[1;33m=\u001b[0m \u001b[0msc\u001b[0m\u001b[1;33m.\u001b[0m\u001b[0mfit_transform\u001b[0m\u001b[1;33m(\u001b[0m\u001b[0mdrn_db\u001b[0m\u001b[1;33m)\u001b[0m\u001b[1;33m\u001b[0m\u001b[1;33m\u001b[0m\u001b[0m\n\u001b[0;32m      5\u001b[0m \u001b[0mdrn_db\u001b[0m \u001b[1;33m=\u001b[0m \u001b[0mpd\u001b[0m\u001b[1;33m.\u001b[0m\u001b[0mDataFrame\u001b[0m\u001b[1;33m(\u001b[0m\u001b[0mdrn_db\u001b[0m\u001b[1;33m)\u001b[0m\u001b[1;33m\u001b[0m\u001b[1;33m\u001b[0m\u001b[0m\n",
      "\u001b[1;31mNameError\u001b[0m: name 'StandardScaler' is not defined"
     ]
    }
   ],
   "source": [
    "\n",
    "sc = StandardScaler()\n",
    "\n",
    "drn_db = db[[\"Duration\"]]\n",
    "drn_db = sc.fit_transform(drn_db)\n",
    "drn_db = pd.DataFrame(drn_db)"
   ]
  },
  {
   "cell_type": "code",
   "execution_count": 33,
   "metadata": {},
   "outputs": [
    {
     "ename": "NameError",
     "evalue": "name 'StandardScaler' is not defined",
     "output_type": "error",
     "traceback": [
      "\u001b[1;31m---------------------------------------------------------------------------\u001b[0m",
      "\u001b[1;31mNameError\u001b[0m                                 Traceback (most recent call last)",
      "\u001b[1;32m<ipython-input-33-5e0d7654b56a>\u001b[0m in \u001b[0;36m<module>\u001b[1;34m\u001b[0m\n\u001b[1;32m----> 1\u001b[1;33m \u001b[0msc\u001b[0m \u001b[1;33m=\u001b[0m \u001b[0mStandardScaler\u001b[0m\u001b[1;33m(\u001b[0m\u001b[1;33m)\u001b[0m\u001b[1;33m\u001b[0m\u001b[1;33m\u001b[0m\u001b[0m\n\u001b[0m",
      "\u001b[1;31mNameError\u001b[0m: name 'StandardScaler' is not defined"
     ]
    }
   ],
   "source": [
    "sc = StandardScaler()\n"
   ]
  },
  {
   "cell_type": "code",
   "execution_count": 34,
   "metadata": {},
   "outputs": [],
   "source": [
    "from sklearn.preprocessing import StandardScaler as sc"
   ]
  },
  {
   "cell_type": "code",
   "execution_count": 35,
   "metadata": {},
   "outputs": [
    {
     "ename": "NameError",
     "evalue": "name 'StandardScaler' is not defined",
     "output_type": "error",
     "traceback": [
      "\u001b[1;31m---------------------------------------------------------------------------\u001b[0m",
      "\u001b[1;31mNameError\u001b[0m                                 Traceback (most recent call last)",
      "\u001b[1;32m<ipython-input-35-5e0d7654b56a>\u001b[0m in \u001b[0;36m<module>\u001b[1;34m\u001b[0m\n\u001b[1;32m----> 1\u001b[1;33m \u001b[0msc\u001b[0m \u001b[1;33m=\u001b[0m \u001b[0mStandardScaler\u001b[0m\u001b[1;33m(\u001b[0m\u001b[1;33m)\u001b[0m\u001b[1;33m\u001b[0m\u001b[1;33m\u001b[0m\u001b[0m\n\u001b[0m",
      "\u001b[1;31mNameError\u001b[0m: name 'StandardScaler' is not defined"
     ]
    }
   ],
   "source": [
    "sc = StandardScaler()"
   ]
  },
  {
   "cell_type": "code",
   "execution_count": 36,
   "metadata": {},
   "outputs": [
    {
     "ename": "NameError",
     "evalue": "name 'StandardScaler' is not defined",
     "output_type": "error",
     "traceback": [
      "\u001b[1;31m---------------------------------------------------------------------------\u001b[0m",
      "\u001b[1;31mNameError\u001b[0m                                 Traceback (most recent call last)",
      "\u001b[1;32m<ipython-input-36-eede35c02f88>\u001b[0m in \u001b[0;36m<module>\u001b[1;34m\u001b[0m\n\u001b[1;32m----> 1\u001b[1;33m \u001b[0msc\u001b[0m \u001b[1;33m=\u001b[0m \u001b[0mStandardScaler\u001b[0m\u001b[1;33m\u001b[0m\u001b[1;33m\u001b[0m\u001b[0m\n\u001b[0m",
      "\u001b[1;31mNameError\u001b[0m: name 'StandardScaler' is not defined"
     ]
    }
   ],
   "source": [
    "sc = StandardScaler"
   ]
  },
  {
   "cell_type": "code",
   "execution_count": 28,
   "metadata": {},
   "outputs": [],
   "source": [
    "from sklearn.preprocessing import StandardScaler"
   ]
  },
  {
   "cell_type": "code",
   "execution_count": 29,
   "metadata": {},
   "outputs": [],
   "source": [
    "sc=StandardScaler()"
   ]
  },
  {
   "cell_type": "code",
   "execution_count": 30,
   "metadata": {},
   "outputs": [],
   "source": [
    "drn_db = db[[\"Duration\"]]\n",
    "drn_db = sc.fit_transform(drn_db)\n",
    "drn_db = pd.DataFrame(drn_db)"
   ]
  },
  {
   "cell_type": "code",
   "execution_count": 31,
   "metadata": {},
   "outputs": [],
   "source": [
    "drn_db = drn_db.rename(columns = {0:\"Duration\"})"
   ]
  },
  {
   "cell_type": "code",
   "execution_count": 32,
   "metadata": {},
   "outputs": [],
   "source": [
    "db_create = pd.concat([db_create,drn_db],axis=1)"
   ]
  },
  {
   "cell_type": "code",
   "execution_count": 33,
   "metadata": {},
   "outputs": [
    {
     "data": {
      "text/plain": [
       "1807      44384\n",
       "1875      15189\n",
       "1806       7627\n",
       "1085       7474\n",
       "1739       7471\n",
       "          ...  \n",
       "211692        1\n",
       "199402        1\n",
       "201449        1\n",
       "217825        1\n",
       "421554        1\n",
       "Name: FlowBytesSent, Length: 72805, dtype: int64"
      ]
     },
     "execution_count": 33,
     "metadata": {},
     "output_type": "execute_result"
    }
   ],
   "source": [
    "db['FlowBytesSent'].value_counts()"
   ]
  },
  {
   "cell_type": "code",
   "execution_count": 34,
   "metadata": {},
   "outputs": [],
   "source": [
    "fs = db[['FlowBytesSent']]"
   ]
  },
  {
   "cell_type": "code",
   "execution_count": 35,
   "metadata": {},
   "outputs": [
    {
     "data": {
      "text/plain": [
       "FlowBytesSent    65757.889977\n",
       "dtype: float64"
      ]
     },
     "execution_count": 35,
     "metadata": {},
     "output_type": "execute_result"
    }
   ],
   "source": [
    "fs.mean()"
   ]
  },
  {
   "cell_type": "code",
   "execution_count": 36,
   "metadata": {},
   "outputs": [
    {
     "data": {
      "text/plain": [
       "FlowBytesSent    1807.0\n",
       "dtype: float64"
      ]
     },
     "execution_count": 36,
     "metadata": {},
     "output_type": "execute_result"
    }
   ],
   "source": [
    "fs.median()"
   ]
  },
  {
   "cell_type": "code",
   "execution_count": 37,
   "metadata": {},
   "outputs": [
    {
     "data": {
      "text/html": [
       "<div>\n",
       "<style scoped>\n",
       "    .dataframe tbody tr th:only-of-type {\n",
       "        vertical-align: middle;\n",
       "    }\n",
       "\n",
       "    .dataframe tbody tr th {\n",
       "        vertical-align: top;\n",
       "    }\n",
       "\n",
       "    .dataframe thead th {\n",
       "        text-align: right;\n",
       "    }\n",
       "</style>\n",
       "<table border=\"1\" class=\"dataframe\">\n",
       "  <thead>\n",
       "    <tr style=\"text-align: right;\">\n",
       "      <th></th>\n",
       "      <th>FlowBytesSent</th>\n",
       "    </tr>\n",
       "  </thead>\n",
       "  <tbody>\n",
       "    <tr>\n",
       "      <th>0</th>\n",
       "      <td>1807</td>\n",
       "    </tr>\n",
       "  </tbody>\n",
       "</table>\n",
       "</div>"
      ],
      "text/plain": [
       "   FlowBytesSent\n",
       "0           1807"
      ]
     },
     "execution_count": 37,
     "metadata": {},
     "output_type": "execute_result"
    }
   ],
   "source": [
    "fs.mode()"
   ]
  },
  {
   "cell_type": "code",
   "execution_count": 47,
   "metadata": {},
   "outputs": [
    {
     "ename": "NameError",
     "evalue": "name 'df' is not defined",
     "output_type": "error",
     "traceback": [
      "\u001b[1;31m---------------------------------------------------------------------------\u001b[0m",
      "\u001b[1;31mNameError\u001b[0m                                 Traceback (most recent call last)",
      "\u001b[1;32m<ipython-input-47-67f2d0160206>\u001b[0m in \u001b[0;36m<module>\u001b[1;34m\u001b[0m\n\u001b[0;32m      3\u001b[0m         \u001b[0mdb\u001b[0m\u001b[1;33m[\u001b[0m\u001b[1;34m'FlowBytesSent'\u001b[0m\u001b[1;33m]\u001b[0m\u001b[1;33m[\u001b[0m\u001b[0mi\u001b[0m\u001b[1;33m]\u001b[0m \u001b[1;33m=\u001b[0m \u001b[1;34m'fs_1807'\u001b[0m\u001b[1;33m\u001b[0m\u001b[1;33m\u001b[0m\u001b[0m\n\u001b[0;32m      4\u001b[0m     \u001b[1;32melif\u001b[0m\u001b[1;33m(\u001b[0m\u001b[0mdb\u001b[0m\u001b[1;33m[\u001b[0m\u001b[1;34m'FlowBytesSent'\u001b[0m\u001b[1;33m]\u001b[0m\u001b[1;33m[\u001b[0m\u001b[0mi\u001b[0m\u001b[1;33m]\u001b[0m \u001b[1;33m>=\u001b[0m \u001b[1;36m1810\u001b[0m\u001b[1;33m)\u001b[0m\u001b[1;33m:\u001b[0m\u001b[1;33m\u001b[0m\u001b[1;33m\u001b[0m\u001b[0m\n\u001b[1;32m----> 5\u001b[1;33m         \u001b[0mdf\u001b[0m\u001b[1;33m[\u001b[0m\u001b[1;34m'FlowBytesSent'\u001b[0m\u001b[1;33m]\u001b[0m\u001b[1;33m[\u001b[0m\u001b[0mi\u001b[0m\u001b[1;33m]\u001b[0m \u001b[1;33m=\u001b[0m \u001b[1;34m'fsless'\u001b[0m\u001b[1;33m\u001b[0m\u001b[1;33m\u001b[0m\u001b[0m\n\u001b[0m\u001b[0;32m      6\u001b[0m     \u001b[1;32melse\u001b[0m\u001b[1;33m:\u001b[0m\u001b[1;33m\u001b[0m\u001b[1;33m\u001b[0m\u001b[0m\n\u001b[0;32m      7\u001b[0m         \u001b[0mdb\u001b[0m\u001b[1;33m[\u001b[0m\u001b[1;34m'FlowBytesSent'\u001b[0m\u001b[1;33m]\u001b[0m\u001b[1;33m[\u001b[0m\u001b[0mi\u001b[0m\u001b[1;33m]\u001b[0m \u001b[1;33m=\u001b[0m \u001b[1;34m'fs_more'\u001b[0m\u001b[1;33m\u001b[0m\u001b[1;33m\u001b[0m\u001b[0m\n",
      "\u001b[1;31mNameError\u001b[0m: name 'df' is not defined"
     ]
    }
   ],
   "source": [
    "for i in range (0,len(db)):\n",
    "    if(db['FlowBytesSent'][i] == 1807):\n",
    "        db['FlowBytesSent'][i] = 'fs_1807'\n",
    "    elif(db['FlowBytesSent'][i] >= 1810):\n",
    "        df['FlowBytesSent'][i] = 'fsless'\n",
    "    else:\n",
    "        db['FlowBytesSent'][i] = 'fs_more'"
   ]
  },
  {
   "cell_type": "code",
   "execution_count": 38,
   "metadata": {},
   "outputs": [
    {
     "name": "stderr",
     "output_type": "stream",
     "text": [
      "<ipython-input-38-4a8b68076bc7>:5: SettingWithCopyWarning: \n",
      "A value is trying to be set on a copy of a slice from a DataFrame\n",
      "\n",
      "See the caveats in the documentation: https://pandas.pydata.org/pandas-docs/stable/user_guide/indexing.html#returning-a-view-versus-a-copy\n",
      "  db['FlowBytesSent'][i] = 'fsless'\n",
      "C:\\Users\\91742\\anaconda3\\lib\\site-packages\\pandas\\core\\indexing.py:671: SettingWithCopyWarning: \n",
      "A value is trying to be set on a copy of a slice from a DataFrame\n",
      "\n",
      "See the caveats in the documentation: https://pandas.pydata.org/pandas-docs/stable/user_guide/indexing.html#returning-a-view-versus-a-copy\n",
      "  self._setitem_with_indexer(indexer, value)\n",
      "<ipython-input-38-4a8b68076bc7>:7: SettingWithCopyWarning: \n",
      "A value is trying to be set on a copy of a slice from a DataFrame\n",
      "\n",
      "See the caveats in the documentation: https://pandas.pydata.org/pandas-docs/stable/user_guide/indexing.html#returning-a-view-versus-a-copy\n",
      "  db['FlowBytesSent'][i] = 'fs_more'\n",
      "<ipython-input-38-4a8b68076bc7>:3: SettingWithCopyWarning: \n",
      "A value is trying to be set on a copy of a slice from a DataFrame\n",
      "\n",
      "See the caveats in the documentation: https://pandas.pydata.org/pandas-docs/stable/user_guide/indexing.html#returning-a-view-versus-a-copy\n",
      "  db['FlowBytesSent'][i] = 'fs_1807'\n"
     ]
    }
   ],
   "source": [
    "for i in range (0,len(db)):\n",
    "    if(db['FlowBytesSent'][i] == 1807):\n",
    "        db['FlowBytesSent'][i] = 'fs_1807'\n",
    "    elif(db['FlowBytesSent'][i] >= 1810):\n",
    "        db['FlowBytesSent'][i] = 'fsless'\n",
    "    else:\n",
    "        db['FlowBytesSent'][i] = 'fs_more'"
   ]
  },
  {
   "cell_type": "code",
   "execution_count": 39,
   "metadata": {},
   "outputs": [],
   "source": [
    "fs_dummy = pd.get_dummies(db['FlowBytesSent'])"
   ]
  },
  {
   "cell_type": "code",
   "execution_count": 40,
   "metadata": {},
   "outputs": [
    {
     "data": {
      "text/html": [
       "<div>\n",
       "<style scoped>\n",
       "    .dataframe tbody tr th:only-of-type {\n",
       "        vertical-align: middle;\n",
       "    }\n",
       "\n",
       "    .dataframe tbody tr th {\n",
       "        vertical-align: top;\n",
       "    }\n",
       "\n",
       "    .dataframe thead th {\n",
       "        text-align: right;\n",
       "    }\n",
       "</style>\n",
       "<table border=\"1\" class=\"dataframe\">\n",
       "  <thead>\n",
       "    <tr style=\"text-align: right;\">\n",
       "      <th></th>\n",
       "      <th>Wrong_port</th>\n",
       "      <th>destination_port_443</th>\n",
       "    </tr>\n",
       "  </thead>\n",
       "  <tbody>\n",
       "    <tr>\n",
       "      <th>251170</th>\n",
       "      <td>0</td>\n",
       "      <td>1</td>\n",
       "    </tr>\n",
       "    <tr>\n",
       "      <th>250984</th>\n",
       "      <td>0</td>\n",
       "      <td>1</td>\n",
       "    </tr>\n",
       "    <tr>\n",
       "      <th>90316</th>\n",
       "      <td>0</td>\n",
       "      <td>1</td>\n",
       "    </tr>\n",
       "    <tr>\n",
       "      <th>6366</th>\n",
       "      <td>0</td>\n",
       "      <td>1</td>\n",
       "    </tr>\n",
       "    <tr>\n",
       "      <th>135318</th>\n",
       "      <td>0</td>\n",
       "      <td>1</td>\n",
       "    </tr>\n",
       "  </tbody>\n",
       "</table>\n",
       "</div>"
      ],
      "text/plain": [
       "        Wrong_port  destination_port_443\n",
       "251170           0                     1\n",
       "250984           0                     1\n",
       "90316            0                     1\n",
       "6366             0                     1\n",
       "135318           0                     1"
      ]
     },
     "execution_count": 40,
     "metadata": {},
     "output_type": "execute_result"
    }
   ],
   "source": [
    "destination_port_dummy.head()"
   ]
  },
  {
   "cell_type": "code",
   "execution_count": 41,
   "metadata": {},
   "outputs": [],
   "source": [
    "db_create = pd.concat([db_create,fs_dummy],axis=1)"
   ]
  },
  {
   "cell_type": "code",
   "execution_count": 42,
   "metadata": {},
   "outputs": [],
   "source": [
    "fs_r = db[[\"FlowSentRate\"]]\n"
   ]
  },
  {
   "cell_type": "code",
   "execution_count": 43,
   "metadata": {},
   "outputs": [],
   "source": [
    "fs_r = sc.fit_transform(fs_r)\n"
   ]
  },
  {
   "cell_type": "code",
   "execution_count": 44,
   "metadata": {},
   "outputs": [],
   "source": [
    "fs_r = pd.DataFrame(fs_r)"
   ]
  },
  {
   "cell_type": "code",
   "execution_count": 45,
   "metadata": {},
   "outputs": [],
   "source": [
    "fs_r = fs_r.rename(columns = {0:\"FlowSentRate\"})\n"
   ]
  },
  {
   "cell_type": "code",
   "execution_count": 46,
   "metadata": {},
   "outputs": [],
   "source": [
    "db_create = pd.concat([db_create,fs_r],axis=1)"
   ]
  },
  {
   "cell_type": "code",
   "execution_count": 47,
   "metadata": {},
   "outputs": [
    {
     "name": "stderr",
     "output_type": "stream",
     "text": [
      "<ipython-input-47-514b36d63150>:1: SettingWithCopyWarning: \n",
      "A value is trying to be set on a copy of a slice from a DataFrame\n",
      "\n",
      "See the caveats in the documentation: https://pandas.pydata.org/pandas-docs/stable/user_guide/indexing.html#returning-a-view-versus-a-copy\n",
      "  db[\"FlowBytesReceived\"][115] = 0\n"
     ]
    }
   ],
   "source": [
    "db[\"FlowBytesReceived\"][115] = 0"
   ]
  },
  {
   "cell_type": "code",
   "execution_count": 48,
   "metadata": {},
   "outputs": [],
   "source": [
    "frec = db[['FlowBytesReceived']]"
   ]
  },
  {
   "cell_type": "code",
   "execution_count": 49,
   "metadata": {},
   "outputs": [
    {
     "data": {
      "text/plain": [
       "FlowBytesReceived    67362.488946\n",
       "dtype: float64"
      ]
     },
     "execution_count": 49,
     "metadata": {},
     "output_type": "execute_result"
    }
   ],
   "source": [
    "frec.mean()"
   ]
  },
  {
   "cell_type": "code",
   "execution_count": 50,
   "metadata": {},
   "outputs": [
    {
     "data": {
      "text/plain": [
       "FlowBytesReceived    4896.0\n",
       "dtype: float64"
      ]
     },
     "execution_count": 50,
     "metadata": {},
     "output_type": "execute_result"
    }
   ],
   "source": [
    "frec.median()"
   ]
  },
  {
   "cell_type": "code",
   "execution_count": 51,
   "metadata": {},
   "outputs": [
    {
     "name": "stderr",
     "output_type": "stream",
     "text": [
      "<ipython-input-51-b979bb7d5b2d>:8: SettingWithCopyWarning: \n",
      "A value is trying to be set on a copy of a slice from a DataFrame\n",
      "\n",
      "See the caveats in the documentation: https://pandas.pydata.org/pandas-docs/stable/user_guide/indexing.html#returning-a-view-versus-a-copy\n",
      "  db['FlowBytesReceived'][i] = 'fr_more'\n",
      "C:\\Users\\91742\\anaconda3\\lib\\site-packages\\pandas\\core\\indexing.py:671: SettingWithCopyWarning: \n",
      "A value is trying to be set on a copy of a slice from a DataFrame\n",
      "\n",
      "See the caveats in the documentation: https://pandas.pydata.org/pandas-docs/stable/user_guide/indexing.html#returning-a-view-versus-a-copy\n",
      "  self._setitem_with_indexer(indexer, value)\n",
      "<ipython-input-51-b979bb7d5b2d>:10: SettingWithCopyWarning: \n",
      "A value is trying to be set on a copy of a slice from a DataFrame\n",
      "\n",
      "See the caveats in the documentation: https://pandas.pydata.org/pandas-docs/stable/user_guide/indexing.html#returning-a-view-versus-a-copy\n",
      "  db['FlowBytesReceived'][i] = 'fr_less'\n"
     ]
    }
   ],
   "source": [
    "for i in range (0,len(db)):\n",
    "    if(isinstance(db['FlowBytesReceived'][i], str)):\n",
    "        db['FlowBytesReceived'][i] = 0\n",
    "        \n",
    "    if(db['FlowBytesReceived'][i] == 98):\n",
    "        db['FlowBytesReceived'][i] = 'fr_98'\n",
    "    elif(db['FlowBytesReceived'][i] > 4900):\n",
    "        db['FlowBytesReceived'][i] = 'fr_more'\n",
    "    else:\n",
    "        db['FlowBytesReceived'][i] = 'fr_less'\n",
    "        \n"
   ]
  },
  {
   "cell_type": "code",
   "execution_count": 62,
   "metadata": {},
   "outputs": [
    {
     "ename": "NameError",
     "evalue": "name 'df' is not defined",
     "output_type": "error",
     "traceback": [
      "\u001b[1;31m---------------------------------------------------------------------------\u001b[0m",
      "\u001b[1;31mNameError\u001b[0m                                 Traceback (most recent call last)",
      "\u001b[1;32m<ipython-input-62-abc012b3e05d>\u001b[0m in \u001b[0;36m<module>\u001b[1;34m\u001b[0m\n\u001b[1;32m----> 1\u001b[1;33m \u001b[0mfrec_dummies\u001b[0m \u001b[1;33m=\u001b[0m \u001b[0mpd\u001b[0m\u001b[1;33m.\u001b[0m\u001b[0mget_dummies\u001b[0m\u001b[1;33m(\u001b[0m\u001b[0mdf\u001b[0m\u001b[1;33m[\u001b[0m\u001b[1;34m'FlowBytesReceived'\u001b[0m\u001b[1;33m]\u001b[0m\u001b[1;33m)\u001b[0m\u001b[1;33m\u001b[0m\u001b[1;33m\u001b[0m\u001b[0m\n\u001b[0m",
      "\u001b[1;31mNameError\u001b[0m: name 'df' is not defined"
     ]
    }
   ],
   "source": [
    "frec_dummies = pd.get_dummies(df['FlowBytesReceived'])"
   ]
  },
  {
   "cell_type": "code",
   "execution_count": 52,
   "metadata": {},
   "outputs": [],
   "source": [
    "frec_dummies = pd.get_dummies(db['FlowBytesReceived'])"
   ]
  },
  {
   "cell_type": "code",
   "execution_count": 64,
   "metadata": {},
   "outputs": [
    {
     "ename": "NameError",
     "evalue": "name 'db_new' is not defined",
     "output_type": "error",
     "traceback": [
      "\u001b[1;31m---------------------------------------------------------------------------\u001b[0m",
      "\u001b[1;31mNameError\u001b[0m                                 Traceback (most recent call last)",
      "\u001b[1;32m<ipython-input-64-34d07a978212>\u001b[0m in \u001b[0;36m<module>\u001b[1;34m\u001b[0m\n\u001b[1;32m----> 1\u001b[1;33m \u001b[0mdb_new\u001b[0m \u001b[1;33m=\u001b[0m \u001b[0mpd\u001b[0m\u001b[1;33m.\u001b[0m\u001b[0mconcat\u001b[0m\u001b[1;33m(\u001b[0m\u001b[1;33m[\u001b[0m\u001b[0mdb_new\u001b[0m\u001b[1;33m,\u001b[0m\u001b[0mfrec_dummies\u001b[0m\u001b[1;33m]\u001b[0m\u001b[1;33m,\u001b[0m\u001b[0maxis\u001b[0m\u001b[1;33m=\u001b[0m\u001b[1;36m1\u001b[0m\u001b[1;33m)\u001b[0m\u001b[1;33m\u001b[0m\u001b[1;33m\u001b[0m\u001b[0m\n\u001b[0m",
      "\u001b[1;31mNameError\u001b[0m: name 'db_new' is not defined"
     ]
    }
   ],
   "source": [
    "db_new = pd.concat([db_new,frec_dummies],axis=1)"
   ]
  },
  {
   "cell_type": "code",
   "execution_count": 53,
   "metadata": {},
   "outputs": [],
   "source": [
    "bd_create = pd.concat([db_create,frec_dummies],axis=1)"
   ]
  },
  {
   "cell_type": "code",
   "execution_count": 54,
   "metadata": {},
   "outputs": [],
   "source": [
    "frc = db[[\"FlowReceivedRate\"]]\n",
    "frc = sc.fit_transform(frc)\n",
    "frc = pd.DataFrame(frc)\n"
   ]
  },
  {
   "cell_type": "code",
   "execution_count": 55,
   "metadata": {},
   "outputs": [],
   "source": [
    "frc = frc.rename(columns = {0:\"FlowRecvRate\"})"
   ]
  },
  {
   "cell_type": "code",
   "execution_count": 56,
   "metadata": {},
   "outputs": [],
   "source": [
    "db_create = pd.concat([db_create,frc],axis=1)"
   ]
  },
  {
   "cell_type": "code",
   "execution_count": 57,
   "metadata": {},
   "outputs": [],
   "source": [
    "plv = db[[\"PacketLengthVariance\"]]\n",
    "plv = sc.fit_transform(plv)\n",
    "plv = pd.DataFrame(plv)"
   ]
  },
  {
   "cell_type": "code",
   "execution_count": 58,
   "metadata": {},
   "outputs": [],
   "source": [
    "plv = plv.rename(columns = {0:\"Pcket_lenVar\"})"
   ]
  },
  {
   "cell_type": "code",
   "execution_count": 59,
   "metadata": {},
   "outputs": [],
   "source": [
    "db_create = pd.concat([db_create,plv],axis=1)"
   ]
  },
  {
   "cell_type": "code",
   "execution_count": 60,
   "metadata": {},
   "outputs": [],
   "source": [
    "plsd = db[[\"PacketLengthStandardDeviation\"]]\n",
    "plsd = sc.fit_transform(plsd)\n",
    "plsd = pd.DataFrame(plsd)"
   ]
  },
  {
   "cell_type": "code",
   "execution_count": 61,
   "metadata": {},
   "outputs": [],
   "source": [
    "plsd = plsd.rename(columns = {0:\"Length_std\"})"
   ]
  },
  {
   "cell_type": "code",
   "execution_count": 62,
   "metadata": {},
   "outputs": [],
   "source": [
    "db_create = pd.concat([db_create,plsd],axis=1)"
   ]
  },
  {
   "cell_type": "code",
   "execution_count": 63,
   "metadata": {},
   "outputs": [],
   "source": [
    "for i in range (0,len(db)):\n",
    "    if(isinstance(db['PacketLengthMean'][i], str)):\n",
    "        df['PacketLengthMean'][i] = 0\n",
    "        \n"
   ]
  },
  {
   "cell_type": "code",
   "execution_count": 64,
   "metadata": {},
   "outputs": [],
   "source": [
    "plm = db[['PacketLengthMean']]\n",
    "plm = sc.fit_transform(plm)\n",
    "plm = pd.DataFrame(plm)"
   ]
  },
  {
   "cell_type": "code",
   "execution_count": 65,
   "metadata": {},
   "outputs": [],
   "source": [
    "plm = plm.rename(columns = {0:\"Length_mean\"})"
   ]
  },
  {
   "cell_type": "code",
   "execution_count": 66,
   "metadata": {},
   "outputs": [],
   "source": [
    "db_create = pd.concat([db_create,plm],axis=1)"
   ]
  },
  {
   "cell_type": "code",
   "execution_count": 67,
   "metadata": {},
   "outputs": [],
   "source": [
    "db_temp_half = db_create"
   ]
  },
  {
   "cell_type": "code",
   "execution_count": 68,
   "metadata": {},
   "outputs": [],
   "source": [
    "for i in range (0,len(db)):\n",
    "    if(isinstance(db['PacketLengthMedian'][i], str)):\n",
    "        db['PacketLengthMedian'][i] = 0"
   ]
  },
  {
   "cell_type": "code",
   "execution_count": 81,
   "metadata": {},
   "outputs": [
    {
     "ename": "NameError",
     "evalue": "name 'df' is not defined",
     "output_type": "error",
     "traceback": [
      "\u001b[1;31m---------------------------------------------------------------------------\u001b[0m",
      "\u001b[1;31mNameError\u001b[0m                                 Traceback (most recent call last)",
      "\u001b[1;32m<ipython-input-81-c6e68f44c154>\u001b[0m in \u001b[0;36m<module>\u001b[1;34m\u001b[0m\n\u001b[1;32m----> 1\u001b[1;33m \u001b[0mpl_med\u001b[0m \u001b[1;33m=\u001b[0m \u001b[0mdf\u001b[0m\u001b[1;33m[\u001b[0m\u001b[1;33m[\u001b[0m\u001b[1;34m'PacketLengthMedian'\u001b[0m\u001b[1;33m]\u001b[0m\u001b[1;33m]\u001b[0m\u001b[1;33m\u001b[0m\u001b[1;33m\u001b[0m\u001b[0m\n\u001b[0m",
      "\u001b[1;31mNameError\u001b[0m: name 'df' is not defined"
     ]
    }
   ],
   "source": [
    "pl_med = df[['PacketLengthMedian']]\n"
   ]
  },
  {
   "cell_type": "code",
   "execution_count": 69,
   "metadata": {},
   "outputs": [],
   "source": [
    "pl_med = db[['PacketLengthMedian']]\n"
   ]
  },
  {
   "cell_type": "code",
   "execution_count": 70,
   "metadata": {},
   "outputs": [],
   "source": [
    "pl_med = sc.fit_transform(pl_med)\n",
    "pl_med = pd.DataFrame(pl_med)"
   ]
  },
  {
   "cell_type": "code",
   "execution_count": 71,
   "metadata": {},
   "outputs": [],
   "source": [
    "pl_med = pl_med.rename(columns = {0:\"L_median\"})"
   ]
  },
  {
   "cell_type": "code",
   "execution_count": 72,
   "metadata": {},
   "outputs": [],
   "source": [
    "db_create = pd.concat([db_create,pl_med],axis=1)"
   ]
  },
  {
   "cell_type": "code",
   "execution_count": 73,
   "metadata": {},
   "outputs": [],
   "source": [
    "for i in range (0,len(db)):\n",
    "    if(isinstance(db['PacketLengthMode'][i], str)):\n",
    "        db['PacketLengthMode'][i] = 0"
   ]
  },
  {
   "cell_type": "code",
   "execution_count": 74,
   "metadata": {},
   "outputs": [],
   "source": [
    "pl_mode = db[['PacketLengthMode']]\n",
    "pl_mode = sc.fit_transform(pl_mode)\n",
    "pl_mode = pd.DataFrame(pl_mode)"
   ]
  },
  {
   "cell_type": "code",
   "execution_count": 75,
   "metadata": {},
   "outputs": [],
   "source": [
    "pl_mode = pl_mode.rename(columns = {0:\"L_mode\"})"
   ]
  },
  {
   "cell_type": "code",
   "execution_count": 76,
   "metadata": {},
   "outputs": [],
   "source": [
    "db_create = pd.concat([db_create,pl_mode],axis=1)"
   ]
  },
  {
   "cell_type": "code",
   "execution_count": 77,
   "metadata": {},
   "outputs": [],
   "source": [
    "for i in range (0,len(db)):\n",
    "    if(isinstance(db['PacketLengthSkewFromMedian'][i], str)):\n",
    "        db['PacketLengthSkewFromMedian'][i] = 0"
   ]
  },
  {
   "cell_type": "code",
   "execution_count": 78,
   "metadata": {},
   "outputs": [],
   "source": [
    "s_med = db[['PacketLengthSkewFromMedian']]\n",
    "s_med = sc.fit_transform(s_med)\n",
    "s_med = pd.DataFrame(s_med)"
   ]
  },
  {
   "cell_type": "code",
   "execution_count": 79,
   "metadata": {},
   "outputs": [],
   "source": [
    "s_med = s_med.rename(columns = {0:\"s_median\"})"
   ]
  },
  {
   "cell_type": "code",
   "execution_count": 80,
   "metadata": {},
   "outputs": [],
   "source": [
    "db_create = pd.concat([db_create,s_med],axis=1)"
   ]
  },
  {
   "cell_type": "code",
   "execution_count": 81,
   "metadata": {},
   "outputs": [],
   "source": [
    "for i in range (0,len(db)):\n",
    "    if(isinstance(db['PacketLengthSkewFromMode'][i], str)):\n",
    "        db['PacketLengthSkewFromMode'][i] = 0"
   ]
  },
  {
   "cell_type": "code",
   "execution_count": 82,
   "metadata": {},
   "outputs": [],
   "source": [
    "s_mode = db[['PacketLengthSkewFromMode']]\n",
    "s_mode = sc.fit_transform(s_mode)\n",
    "s_mode = pd.DataFrame(s_mode)"
   ]
  },
  {
   "cell_type": "code",
   "execution_count": 83,
   "metadata": {},
   "outputs": [],
   "source": [
    "s_mode = s_mode.rename(columns = {0:\"s_mode\"})"
   ]
  },
  {
   "cell_type": "code",
   "execution_count": 84,
   "metadata": {},
   "outputs": [],
   "source": [
    "db_create = pd.concat([db_create,s_mode],axis=1)"
   ]
  },
  {
   "cell_type": "code",
   "execution_count": 85,
   "metadata": {},
   "outputs": [],
   "source": [
    "for i in range (0,len(db)):\n",
    "    if(isinstance(db['PacketLengthCoefficientofVariation'][i], str)):\n",
    "        db['PacketLengthCoefficientofVariation'][i] = 0"
   ]
  },
  {
   "cell_type": "code",
   "execution_count": 86,
   "metadata": {},
   "outputs": [],
   "source": [
    "plcv = db[['PacketLengthCoefficientofVariation']]\n",
    "plcv = sc.fit_transform(plcv)\n",
    "plcv = pd.DataFrame(plcv)"
   ]
  },
  {
   "cell_type": "code",
   "execution_count": 87,
   "metadata": {},
   "outputs": [],
   "source": [
    "plcv = plcv.rename(columns = {0:\"PLCV\"})"
   ]
  },
  {
   "cell_type": "code",
   "execution_count": 88,
   "metadata": {},
   "outputs": [],
   "source": [
    "db_create = pd.concat([db_create,plcv],axis=1)"
   ]
  },
  {
   "cell_type": "code",
   "execution_count": 89,
   "metadata": {},
   "outputs": [],
   "source": [
    "for i in range (0,len(db)):\n",
    "    if(isinstance(db['PacketTimeVariance'][i], str)):\n",
    "        db['PacketTimeVariance'][i] = 0"
   ]
  },
  {
   "cell_type": "code",
   "execution_count": 90,
   "metadata": {},
   "outputs": [],
   "source": [
    "ptv = db[['PacketTimeVariance']]\n",
    "ptv = sc.fit_transform(ptv)\n",
    "ptv = pd.DataFrame(ptv)"
   ]
  },
  {
   "cell_type": "code",
   "execution_count": 91,
   "metadata": {},
   "outputs": [],
   "source": [
    "ptv = ptv.rename(columns = {0:\"PTV\"})"
   ]
  },
  {
   "cell_type": "code",
   "execution_count": 92,
   "metadata": {},
   "outputs": [],
   "source": [
    "db_create = pd.concat([db_create,ptv],axis=1)"
   ]
  },
  {
   "cell_type": "code",
   "execution_count": 93,
   "metadata": {},
   "outputs": [],
   "source": [
    "for i in range (0,len(db)):\n",
    "    if(isinstance(db['PacketTimeStandardDeviation'][i], str)):\n",
    "        db['PacketTimeStandardDeviatione'][i] = 0"
   ]
  },
  {
   "cell_type": "code",
   "execution_count": 94,
   "metadata": {},
   "outputs": [],
   "source": [
    "pt_std = db[['PacketTimeStandardDeviation']]\n",
    "pt_std = sc.fit_transform(pt_std)\n",
    "pt_std = pd.DataFrame(pt_std)"
   ]
  },
  {
   "cell_type": "code",
   "execution_count": 95,
   "metadata": {},
   "outputs": [],
   "source": [
    "pt_std = pt_std.rename(columns = {0:\"PT_std\"})\n",
    "db_create = pd.concat([db_create,pt_std],axis=1)"
   ]
  },
  {
   "cell_type": "code",
   "execution_count": 96,
   "metadata": {},
   "outputs": [],
   "source": [
    "for i in range (0,len(db)):\n",
    "    if(isinstance(db['PacketTimeMean'][i], str)):\n",
    "        db['PacketTimeMean'][i] = 0\n",
    "        \n",
    "pt_mean = db[['PacketTimeMean']]\n",
    "pt_mean = sc.fit_transform(pt_mean)\n",
    "pt_mean = pd.DataFrame(pt_mean)"
   ]
  },
  {
   "cell_type": "code",
   "execution_count": 97,
   "metadata": {},
   "outputs": [],
   "source": [
    "pt_mean = pt_mean.rename(columns = {0:\"PT_mean\"})\n",
    "db_create = pd.concat([db_create,pt_mean],axis=1)"
   ]
  },
  {
   "cell_type": "code",
   "execution_count": 98,
   "metadata": {},
   "outputs": [],
   "source": [
    "for i in range (0,len(db)):\n",
    "    if(isinstance(db['PacketTimeMedian'][i], str)):\n",
    "        db['PacketTimeMedian'][i] = 0\n",
    "        \n",
    "pt_med = db[['PacketTimeMedian']]\n",
    "pt_med = sc.fit_transform(pt_med)\n",
    "pt_med = pd.DataFrame(pt_med)"
   ]
  },
  {
   "cell_type": "code",
   "execution_count": 99,
   "metadata": {},
   "outputs": [],
   "source": [
    "pt_med = pt_med.rename(columns = {0:\"PT_median\"})\n",
    "db_create = pd.concat([db_create,pt_med],axis=1)"
   ]
  },
  {
   "cell_type": "code",
   "execution_count": 100,
   "metadata": {},
   "outputs": [],
   "source": [
    "for i in range (0,len(db)):\n",
    "    if(isinstance(db['PacketTimeMode'][i], str)):\n",
    "        db['PacketTimeMode'][i] = 0\n",
    "        \n",
    "packt_time_mode = db[['PacketTimeMode']]\n",
    "packt_time_mode = sc.fit_transform(packt_time_mode)\n",
    "packt_time_mode = pd.DataFrame(packt_time_mode)"
   ]
  },
  {
   "cell_type": "code",
   "execution_count": 101,
   "metadata": {},
   "outputs": [],
   "source": [
    "packt_time_mode = packt_time_mode.rename(columns = {0:\"Packt_Time_mode\"})\n",
    "db_create = pd.concat([db_create,packt_time_mode],axis=1)"
   ]
  },
  {
   "cell_type": "code",
   "execution_count": 102,
   "metadata": {},
   "outputs": [],
   "source": [
    "for i in range (0,len(db)):\n",
    "    if(isinstance(db['PacketTimeSkewFromMedian'][i], str)):\n",
    "        db['PacketTimeSkewFromMedian'][i] = 0\n",
    "        \n",
    "s_med_time = db[['PacketTimeSkewFromMedian']]\n",
    "s_med_time = sc.fit_transform(s_med_time)\n",
    "s_med_time = pd.DataFrame(s_med_time)"
   ]
  },
  {
   "cell_type": "code",
   "execution_count": 103,
   "metadata": {},
   "outputs": [],
   "source": [
    "s_med_time = s_med_time.rename(columns = {0:\"s_med_time\"})\n",
    "dfb_create = pd.concat([db_create,s_med_time],axis=1)"
   ]
  },
  {
   "cell_type": "code",
   "execution_count": 104,
   "metadata": {},
   "outputs": [],
   "source": [
    "for i in range (0,len(db)):\n",
    "    if(isinstance(db['PacketTimeSkewFromMode'][i], str)):\n",
    "        db['PacketTimeSkewFromMode'][i] = 0\n",
    "        \n",
    "s_mode_time = db[['PacketTimeSkewFromMode']]\n",
    "s_mode_time = sc.fit_transform(s_mode_time)\n",
    "s_mode_time = pd.DataFrame(s_mode_time)"
   ]
  },
  {
   "cell_type": "code",
   "execution_count": 105,
   "metadata": {},
   "outputs": [],
   "source": [
    "s_mode_time = s_mode_time.rename(columns = {0:\"s_mode_time\"})\n"
   ]
  },
  {
   "cell_type": "code",
   "execution_count": 106,
   "metadata": {},
   "outputs": [],
   "source": [
    "db_create = pd.concat([db_create,s_mode_time],axis=1)"
   ]
  },
  {
   "cell_type": "code",
   "execution_count": 107,
   "metadata": {},
   "outputs": [],
   "source": [
    "for i in range (0,len(db)):\n",
    "    if(isinstance(db['PacketTimeCoefficientofVariation'][i], str)):\n",
    "        db['PacketTimeCoefficientofVariation'][i] = 0\n",
    "        \n",
    "pkt_cov_time = db[['PacketTimeCoefficientofVariation']]\n",
    "pkt_cov_time = sc.fit_transform(pkt_cov_time)\n",
    "pkt_cov_time = pd.DataFrame(pkt_cov_time)"
   ]
  },
  {
   "cell_type": "code",
   "execution_count": 108,
   "metadata": {},
   "outputs": [],
   "source": [
    "pjt_cov_time = pkt_cov_time.rename(columns = {0:\"pkt_cov_time\"})\n",
    "db_create = pd.concat([db_create,pkt_cov_time],axis=1)\n"
   ]
  },
  {
   "cell_type": "code",
   "execution_count": 109,
   "metadata": {},
   "outputs": [],
   "source": [
    "for i in range (0,len(db)):\n",
    "    if(isinstance(db['ResponseTimeTimeVariance'][i], str)):\n",
    "        db['ResponseTimeTimeVariance'][i] = 0\n",
    "        \n",
    "r_time_var = db[['ResponseTimeTimeVariance']]\n",
    "r_time_var = sc.fit_transform(r_time_var)\n",
    "r_time_var = pd.DataFrame(r_time_var)"
   ]
  },
  {
   "cell_type": "code",
   "execution_count": 110,
   "metadata": {},
   "outputs": [],
   "source": [
    "r_time_var = r_time_var.rename(columns = {0:\"r_time_var\"})\n",
    "db_create = pd.concat([db_create,r_time_var],axis=1)"
   ]
  },
  {
   "cell_type": "code",
   "execution_count": 111,
   "metadata": {},
   "outputs": [],
   "source": [
    "for i in range (0,len(db)):\n",
    "    if(isinstance(db['ResponseTimeTimeStandardDeviation'][i], str)):\n",
    "        db['ResponseTimeTimeStandardDeviation'][i] = 0\n",
    "        \n",
    "r_time_std = db[['ResponseTimeTimeStandardDeviation']]\n",
    "r_time_std = sc.fit_transform(r_time_std)\n",
    "r_time_std = pd.DataFrame(r_time_std)"
   ]
  },
  {
   "cell_type": "code",
   "execution_count": 112,
   "metadata": {},
   "outputs": [],
   "source": [
    "r_time_std = r_time_std.rename(columns = {0:\"r_time_std\"})"
   ]
  },
  {
   "cell_type": "code",
   "execution_count": 113,
   "metadata": {},
   "outputs": [],
   "source": [
    "db_create = pd.concat([db_create,r_time_std],axis=1)"
   ]
  },
  {
   "cell_type": "code",
   "execution_count": 114,
   "metadata": {},
   "outputs": [],
   "source": [
    "for i in range (0,len(db)):\n",
    "    if(isinstance(db['ResponseTimeTimeMean'][i], str)):\n",
    "        db['ResponseTimeTimeMean'][i] = 0"
   ]
  },
  {
   "cell_type": "code",
   "execution_count": 115,
   "metadata": {},
   "outputs": [],
   "source": [
    "r_time_mean = db[['ResponseTimeTimeMean']]\n",
    "r_time_mean = sc.fit_transform(r_time_mean)\n",
    "r_time_mean = pd.DataFrame(r_time_mean)"
   ]
  },
  {
   "cell_type": "code",
   "execution_count": 116,
   "metadata": {},
   "outputs": [],
   "source": [
    "r_time_mean = r_time_mean.rename(columns = {0:\"r_time_mean\"})"
   ]
  },
  {
   "cell_type": "code",
   "execution_count": 117,
   "metadata": {},
   "outputs": [],
   "source": [
    "db_create = pd.concat([db_create,r_time_mean],axis=1)"
   ]
  },
  {
   "cell_type": "code",
   "execution_count": 118,
   "metadata": {},
   "outputs": [
    {
     "name": "stderr",
     "output_type": "stream",
     "text": [
      "<ipython-input-118-4b739f030769>:3: SettingWithCopyWarning: \n",
      "A value is trying to be set on a copy of a slice from a DataFrame\n",
      "\n",
      "See the caveats in the documentation: https://pandas.pydata.org/pandas-docs/stable/user_guide/indexing.html#returning-a-view-versus-a-copy\n",
      "  db['ResponseTimeTimeMedian'][i] = 0\n"
     ]
    }
   ],
   "source": [
    "for i in range (0,len(db)):\n",
    "    if(isinstance(db['ResponseTimeTimeMedian'][i], str)):\n",
    "        db['ResponseTimeTimeMedian'][i] = 0\n",
    "        \n",
    "r_time_med = db[['ResponseTimeTimeMedian']]\n",
    "r_time_med = sc.fit_transform(r_time_med)\n",
    "r_time_med = pd.DataFrame(r_time_med)"
   ]
  },
  {
   "cell_type": "code",
   "execution_count": 119,
   "metadata": {},
   "outputs": [],
   "source": [
    "r_time_med = r_time_med.rename(columns = {0:\"r_time_med\"})\n",
    "db_create = pd.concat([db_create,r_time_med],axis=1)"
   ]
  },
  {
   "cell_type": "code",
   "execution_count": 120,
   "metadata": {},
   "outputs": [],
   "source": [
    "for i in range (0,len(db)):\n",
    "    if(isinstance(db['ResponseTimeTimeMode'][i], str)):\n",
    "        db['ResponseTimeTimeMode'][i] = 0\n",
    "        \n",
    "r_time_mode = db[['ResponseTimeTimeMode']]\n",
    "r_time_mode = sc.fit_transform(r_time_mode)\n",
    "r_time_mode = pd.DataFrame(r_time_mode)"
   ]
  },
  {
   "cell_type": "code",
   "execution_count": 121,
   "metadata": {},
   "outputs": [],
   "source": [
    "r_time_mode = r_time_mode.rename(columns = {0:\"r_time_mode\"})\n",
    "db_create = pd.concat([db_create,r_time_mode],axis=1)"
   ]
  },
  {
   "cell_type": "code",
   "execution_count": 122,
   "metadata": {},
   "outputs": [
    {
     "name": "stderr",
     "output_type": "stream",
     "text": [
      "<ipython-input-122-1abd97a78dfc>:3: SettingWithCopyWarning: \n",
      "A value is trying to be set on a copy of a slice from a DataFrame\n",
      "\n",
      "See the caveats in the documentation: https://pandas.pydata.org/pandas-docs/stable/user_guide/indexing.html#returning-a-view-versus-a-copy\n",
      "  db['ResponseTimeTimeSkewFromMedian'][i] = 0\n"
     ]
    }
   ],
   "source": [
    "for i in range (0,len(db)):\n",
    "    if(isinstance(db['ResponseTimeTimeSkewFromMedian'][i], str)):\n",
    "        db['ResponseTimeTimeSkewFromMedian'][i] = 0\n",
    "        \n",
    "r_s_med_time = db[['ResponseTimeTimeSkewFromMedian']]\n",
    "r_s_med_time = sc.fit_transform(r_s_med_time)\n",
    "r_s_med_time = pd.DataFrame(r_s_med_time)"
   ]
  },
  {
   "cell_type": "code",
   "execution_count": 123,
   "metadata": {},
   "outputs": [],
   "source": [
    "r_s_med_time = r_s_med_time.rename(columns = {0:\"r_s_med_time\"})\n",
    "db_create = pd.concat([db_create,r_s_med_time],axis=1)"
   ]
  },
  {
   "cell_type": "code",
   "execution_count": 124,
   "metadata": {},
   "outputs": [],
   "source": [
    "for i in range (0,len(db)):\n",
    "    if(isinstance(db['ResponseTimeTimeSkewFromMode'][i], str)):\n",
    "        db['ResponseTimeTimeSkewFromMode'][i] = 0"
   ]
  },
  {
   "cell_type": "code",
   "execution_count": 125,
   "metadata": {},
   "outputs": [],
   "source": [
    "r_s_mode_time = db[['ResponseTimeTimeSkewFromMode']]\n",
    "r_s_mode_time = sc.fit_transform(r_s_mode_time)\n",
    "r_s_mode_time = pd.DataFrame(r_s_mode_time)"
   ]
  },
  {
   "cell_type": "code",
   "execution_count": 126,
   "metadata": {},
   "outputs": [],
   "source": [
    "r_s_mode_time = r_s_mode_time.rename(columns = {0:\"r_s_mode_time\"})\n",
    "db_create = pd.concat([db_create,r_s_mode_time],axis=1)"
   ]
  },
  {
   "cell_type": "code",
   "execution_count": 127,
   "metadata": {},
   "outputs": [],
   "source": [
    "for i in range (0,len(db)):\n",
    "    if(isinstance(db['ResponseTimeTimeCoefficientofVariation'][i], str)):\n",
    "        db['ResponseTimeTimeCoefficientofVariation'][i] = 0"
   ]
  },
  {
   "cell_type": "code",
   "execution_count": 128,
   "metadata": {},
   "outputs": [],
   "source": [
    "r_c_time = db[['ResponseTimeTimeCoefficientofVariation']]\n",
    "r_c_time = sc.fit_transform(r_c_time)\n",
    "r_c_time = pd.DataFrame(r_c_time)"
   ]
  },
  {
   "cell_type": "code",
   "execution_count": 129,
   "metadata": {},
   "outputs": [],
   "source": [
    "r_c_time = r_c_time.rename(columns = {0:\"r_c_time\"})\n",
    "db_create = pd.concat([db_create,r_c_time],axis=1)"
   ]
  },
  {
   "cell_type": "code",
   "execution_count": 142,
   "metadata": {},
   "outputs": [],
   "source": [
    "labels = pd.get_dummies(db['Label'])"
   ]
  },
  {
   "cell_type": "code",
   "execution_count": 143,
   "metadata": {},
   "outputs": [],
   "source": [
    "db_create = pd.concat([db_create,labels],axis=1)"
   ]
  },
  {
   "cell_type": "code",
   "execution_count": null,
   "metadata": {},
   "outputs": [],
   "source": []
  },
  {
   "cell_type": "code",
   "execution_count": null,
   "metadata": {},
   "outputs": [],
   "source": []
  },
  {
   "cell_type": "code",
   "execution_count": 137,
   "metadata": {},
   "outputs": [
    {
     "data": {
      "text/plain": [
       "dtype('float64')"
      ]
     },
     "execution_count": 137,
     "metadata": {},
     "output_type": "execute_result"
    }
   ],
   "source": [
    "db.dtypes['FlowReceivedRate']"
   ]
  },
  {
   "cell_type": "code",
   "execution_count": 144,
   "metadata": {},
   "outputs": [],
   "source": [
    "db_create.to_csv(r'C:\\Users\\91742\\Desktop\\Nasscom_Final\\Total-CSVs\\final_data_input_FINAL_Final.csv')"
   ]
  },
  {
   "cell_type": "code",
   "execution_count": 145,
   "metadata": {},
   "outputs": [
    {
     "data": {
      "text/html": [
       "<div>\n",
       "<style scoped>\n",
       "    .dataframe tbody tr th:only-of-type {\n",
       "        vertical-align: middle;\n",
       "    }\n",
       "\n",
       "    .dataframe tbody tr th {\n",
       "        vertical-align: top;\n",
       "    }\n",
       "\n",
       "    .dataframe thead th {\n",
       "        text-align: right;\n",
       "    }\n",
       "</style>\n",
       "<table border=\"1\" class=\"dataframe\">\n",
       "  <thead>\n",
       "    <tr style=\"text-align: right;\">\n",
       "      <th></th>\n",
       "      <th>ip_1</th>\n",
       "      <th>ip_144</th>\n",
       "      <th>ip_204</th>\n",
       "      <th>ip_205</th>\n",
       "      <th>ip_207</th>\n",
       "      <th>ip_8</th>\n",
       "      <th>not_freq</th>\n",
       "      <th>ip_4</th>\n",
       "      <th>ip_11</th>\n",
       "      <th>dest_ip_130_1_8</th>\n",
       "      <th>...</th>\n",
       "      <th>r_time_var</th>\n",
       "      <th>r_time_std</th>\n",
       "      <th>r_time_mean</th>\n",
       "      <th>r_time_med</th>\n",
       "      <th>r_time_mode</th>\n",
       "      <th>r_s_med_time</th>\n",
       "      <th>r_s_mode_time</th>\n",
       "      <th>r_c_time</th>\n",
       "      <th>Benign</th>\n",
       "      <th>Malicious</th>\n",
       "    </tr>\n",
       "  </thead>\n",
       "  <tbody>\n",
       "    <tr>\n",
       "      <th>0</th>\n",
       "      <td>0</td>\n",
       "      <td>0</td>\n",
       "      <td>0</td>\n",
       "      <td>0</td>\n",
       "      <td>0</td>\n",
       "      <td>0</td>\n",
       "      <td>1</td>\n",
       "      <td>0</td>\n",
       "      <td>0</td>\n",
       "      <td>0</td>\n",
       "      <td>...</td>\n",
       "      <td>-0.178941</td>\n",
       "      <td>-0.244670</td>\n",
       "      <td>-0.239715</td>\n",
       "      <td>-0.221598</td>\n",
       "      <td>-0.159623</td>\n",
       "      <td>-0.652141</td>\n",
       "      <td>0.648299</td>\n",
       "      <td>-0.362176</td>\n",
       "      <td>1</td>\n",
       "      <td>0</td>\n",
       "    </tr>\n",
       "    <tr>\n",
       "      <th>1</th>\n",
       "      <td>0</td>\n",
       "      <td>0</td>\n",
       "      <td>0</td>\n",
       "      <td>0</td>\n",
       "      <td>0</td>\n",
       "      <td>0</td>\n",
       "      <td>1</td>\n",
       "      <td>0</td>\n",
       "      <td>0</td>\n",
       "      <td>0</td>\n",
       "      <td>...</td>\n",
       "      <td>-0.132047</td>\n",
       "      <td>0.277059</td>\n",
       "      <td>-0.183655</td>\n",
       "      <td>-0.225091</td>\n",
       "      <td>-0.159603</td>\n",
       "      <td>0.638875</td>\n",
       "      <td>-0.336711</td>\n",
       "      <td>1.168953</td>\n",
       "      <td>1</td>\n",
       "      <td>0</td>\n",
       "    </tr>\n",
       "    <tr>\n",
       "      <th>2</th>\n",
       "      <td>0</td>\n",
       "      <td>0</td>\n",
       "      <td>0</td>\n",
       "      <td>0</td>\n",
       "      <td>0</td>\n",
       "      <td>0</td>\n",
       "      <td>1</td>\n",
       "      <td>0</td>\n",
       "      <td>0</td>\n",
       "      <td>0</td>\n",
       "      <td>...</td>\n",
       "      <td>-0.178940</td>\n",
       "      <td>-0.244316</td>\n",
       "      <td>-0.238336</td>\n",
       "      <td>-0.221617</td>\n",
       "      <td>-0.153063</td>\n",
       "      <td>0.260054</td>\n",
       "      <td>-0.500979</td>\n",
       "      <td>-0.415456</td>\n",
       "      <td>1</td>\n",
       "      <td>0</td>\n",
       "    </tr>\n",
       "    <tr>\n",
       "      <th>3</th>\n",
       "      <td>0</td>\n",
       "      <td>0</td>\n",
       "      <td>0</td>\n",
       "      <td>0</td>\n",
       "      <td>0</td>\n",
       "      <td>0</td>\n",
       "      <td>1</td>\n",
       "      <td>0</td>\n",
       "      <td>0</td>\n",
       "      <td>0</td>\n",
       "      <td>...</td>\n",
       "      <td>-0.178946</td>\n",
       "      <td>-0.250146</td>\n",
       "      <td>-0.238243</td>\n",
       "      <td>-0.221523</td>\n",
       "      <td>-0.152942</td>\n",
       "      <td>1.330461</td>\n",
       "      <td>-0.025069</td>\n",
       "      <td>-0.629109</td>\n",
       "      <td>1</td>\n",
       "      <td>0</td>\n",
       "    </tr>\n",
       "    <tr>\n",
       "      <th>4</th>\n",
       "      <td>0</td>\n",
       "      <td>0</td>\n",
       "      <td>0</td>\n",
       "      <td>0</td>\n",
       "      <td>0</td>\n",
       "      <td>0</td>\n",
       "      <td>1</td>\n",
       "      <td>0</td>\n",
       "      <td>0</td>\n",
       "      <td>0</td>\n",
       "      <td>...</td>\n",
       "      <td>-0.178937</td>\n",
       "      <td>-0.242955</td>\n",
       "      <td>-0.240378</td>\n",
       "      <td>-0.221754</td>\n",
       "      <td>-0.159628</td>\n",
       "      <td>-0.683835</td>\n",
       "      <td>0.237335</td>\n",
       "      <td>-0.213566</td>\n",
       "      <td>1</td>\n",
       "      <td>0</td>\n",
       "    </tr>\n",
       "  </tbody>\n",
       "</table>\n",
       "<p>5 rows × 46 columns</p>\n",
       "</div>"
      ],
      "text/plain": [
       "   ip_1  ip_144  ip_204  ip_205  ip_207  ip_8  not_freq  ip_4  ip_11  \\\n",
       "0     0       0       0       0       0     0         1     0      0   \n",
       "1     0       0       0       0       0     0         1     0      0   \n",
       "2     0       0       0       0       0     0         1     0      0   \n",
       "3     0       0       0       0       0     0         1     0      0   \n",
       "4     0       0       0       0       0     0         1     0      0   \n",
       "\n",
       "   dest_ip_130_1_8  ...  r_time_var  r_time_std  r_time_mean  r_time_med  \\\n",
       "0                0  ...   -0.178941   -0.244670    -0.239715   -0.221598   \n",
       "1                0  ...   -0.132047    0.277059    -0.183655   -0.225091   \n",
       "2                0  ...   -0.178940   -0.244316    -0.238336   -0.221617   \n",
       "3                0  ...   -0.178946   -0.250146    -0.238243   -0.221523   \n",
       "4                0  ...   -0.178937   -0.242955    -0.240378   -0.221754   \n",
       "\n",
       "   r_time_mode  r_s_med_time  r_s_mode_time  r_c_time  Benign  Malicious  \n",
       "0    -0.159623     -0.652141       0.648299 -0.362176       1          0  \n",
       "1    -0.159603      0.638875      -0.336711  1.168953       1          0  \n",
       "2    -0.153063      0.260054      -0.500979 -0.415456       1          0  \n",
       "3    -0.152942      1.330461      -0.025069 -0.629109       1          0  \n",
       "4    -0.159628     -0.683835       0.237335 -0.213566       1          0  \n",
       "\n",
       "[5 rows x 46 columns]"
      ]
     },
     "execution_count": 145,
     "metadata": {},
     "output_type": "execute_result"
    }
   ],
   "source": [
    "db_create.head()"
   ]
  },
  {
   "cell_type": "code",
   "execution_count": 146,
   "metadata": {},
   "outputs": [
    {
     "data": {
      "text/html": [
       "<div>\n",
       "<style scoped>\n",
       "    .dataframe tbody tr th:only-of-type {\n",
       "        vertical-align: middle;\n",
       "    }\n",
       "\n",
       "    .dataframe tbody tr th {\n",
       "        vertical-align: top;\n",
       "    }\n",
       "\n",
       "    .dataframe thead th {\n",
       "        text-align: right;\n",
       "    }\n",
       "</style>\n",
       "<table border=\"1\" class=\"dataframe\">\n",
       "  <thead>\n",
       "    <tr style=\"text-align: right;\">\n",
       "      <th></th>\n",
       "      <th>ip_1</th>\n",
       "      <th>ip_144</th>\n",
       "      <th>ip_204</th>\n",
       "      <th>ip_205</th>\n",
       "      <th>ip_207</th>\n",
       "      <th>ip_8</th>\n",
       "      <th>not_freq</th>\n",
       "      <th>ip_4</th>\n",
       "      <th>ip_11</th>\n",
       "      <th>dest_ip_130_1_8</th>\n",
       "      <th>...</th>\n",
       "      <th>0</th>\n",
       "      <th>r_time_var</th>\n",
       "      <th>r_time_std</th>\n",
       "      <th>r_time_mean</th>\n",
       "      <th>r_time_med</th>\n",
       "      <th>r_time_mode</th>\n",
       "      <th>r_s_med_time</th>\n",
       "      <th>r_s_mode_time</th>\n",
       "      <th>r_c_time</th>\n",
       "      <th>Benign</th>\n",
       "    </tr>\n",
       "  </thead>\n",
       "  <tbody>\n",
       "    <tr>\n",
       "      <th>0</th>\n",
       "      <td>0</td>\n",
       "      <td>0</td>\n",
       "      <td>0</td>\n",
       "      <td>0</td>\n",
       "      <td>0</td>\n",
       "      <td>0</td>\n",
       "      <td>1</td>\n",
       "      <td>0</td>\n",
       "      <td>0</td>\n",
       "      <td>0</td>\n",
       "      <td>...</td>\n",
       "      <td>0.754077</td>\n",
       "      <td>-0.178941</td>\n",
       "      <td>-0.244670</td>\n",
       "      <td>-0.239715</td>\n",
       "      <td>-0.221598</td>\n",
       "      <td>-0.159623</td>\n",
       "      <td>-0.652141</td>\n",
       "      <td>0.648299</td>\n",
       "      <td>-0.362176</td>\n",
       "      <td>1</td>\n",
       "    </tr>\n",
       "    <tr>\n",
       "      <th>1</th>\n",
       "      <td>0</td>\n",
       "      <td>0</td>\n",
       "      <td>0</td>\n",
       "      <td>0</td>\n",
       "      <td>0</td>\n",
       "      <td>0</td>\n",
       "      <td>1</td>\n",
       "      <td>0</td>\n",
       "      <td>0</td>\n",
       "      <td>0</td>\n",
       "      <td>...</td>\n",
       "      <td>-0.814219</td>\n",
       "      <td>-0.132047</td>\n",
       "      <td>0.277059</td>\n",
       "      <td>-0.183655</td>\n",
       "      <td>-0.225091</td>\n",
       "      <td>-0.159603</td>\n",
       "      <td>0.638875</td>\n",
       "      <td>-0.336711</td>\n",
       "      <td>1.168953</td>\n",
       "      <td>1</td>\n",
       "    </tr>\n",
       "    <tr>\n",
       "      <th>2</th>\n",
       "      <td>0</td>\n",
       "      <td>0</td>\n",
       "      <td>0</td>\n",
       "      <td>0</td>\n",
       "      <td>0</td>\n",
       "      <td>0</td>\n",
       "      <td>1</td>\n",
       "      <td>0</td>\n",
       "      <td>0</td>\n",
       "      <td>0</td>\n",
       "      <td>...</td>\n",
       "      <td>-0.817715</td>\n",
       "      <td>-0.178940</td>\n",
       "      <td>-0.244316</td>\n",
       "      <td>-0.238336</td>\n",
       "      <td>-0.221617</td>\n",
       "      <td>-0.153063</td>\n",
       "      <td>0.260054</td>\n",
       "      <td>-0.500979</td>\n",
       "      <td>-0.415456</td>\n",
       "      <td>1</td>\n",
       "    </tr>\n",
       "    <tr>\n",
       "      <th>3</th>\n",
       "      <td>0</td>\n",
       "      <td>0</td>\n",
       "      <td>0</td>\n",
       "      <td>0</td>\n",
       "      <td>0</td>\n",
       "      <td>0</td>\n",
       "      <td>1</td>\n",
       "      <td>0</td>\n",
       "      <td>0</td>\n",
       "      <td>0</td>\n",
       "      <td>...</td>\n",
       "      <td>-0.316040</td>\n",
       "      <td>-0.178946</td>\n",
       "      <td>-0.250146</td>\n",
       "      <td>-0.238243</td>\n",
       "      <td>-0.221523</td>\n",
       "      <td>-0.152942</td>\n",
       "      <td>1.330461</td>\n",
       "      <td>-0.025069</td>\n",
       "      <td>-0.629109</td>\n",
       "      <td>1</td>\n",
       "    </tr>\n",
       "    <tr>\n",
       "      <th>4</th>\n",
       "      <td>0</td>\n",
       "      <td>0</td>\n",
       "      <td>0</td>\n",
       "      <td>0</td>\n",
       "      <td>0</td>\n",
       "      <td>0</td>\n",
       "      <td>1</td>\n",
       "      <td>0</td>\n",
       "      <td>0</td>\n",
       "      <td>0</td>\n",
       "      <td>...</td>\n",
       "      <td>-0.770578</td>\n",
       "      <td>-0.178937</td>\n",
       "      <td>-0.242955</td>\n",
       "      <td>-0.240378</td>\n",
       "      <td>-0.221754</td>\n",
       "      <td>-0.159628</td>\n",
       "      <td>-0.683835</td>\n",
       "      <td>0.237335</td>\n",
       "      <td>-0.213566</td>\n",
       "      <td>1</td>\n",
       "    </tr>\n",
       "    <tr>\n",
       "      <th>...</th>\n",
       "      <td>...</td>\n",
       "      <td>...</td>\n",
       "      <td>...</td>\n",
       "      <td>...</td>\n",
       "      <td>...</td>\n",
       "      <td>...</td>\n",
       "      <td>...</td>\n",
       "      <td>...</td>\n",
       "      <td>...</td>\n",
       "      <td>...</td>\n",
       "      <td>...</td>\n",
       "      <td>...</td>\n",
       "      <td>...</td>\n",
       "      <td>...</td>\n",
       "      <td>...</td>\n",
       "      <td>...</td>\n",
       "      <td>...</td>\n",
       "      <td>...</td>\n",
       "      <td>...</td>\n",
       "      <td>...</td>\n",
       "      <td>...</td>\n",
       "    </tr>\n",
       "    <tr>\n",
       "      <th>269638</th>\n",
       "      <td>1</td>\n",
       "      <td>0</td>\n",
       "      <td>0</td>\n",
       "      <td>0</td>\n",
       "      <td>0</td>\n",
       "      <td>0</td>\n",
       "      <td>0</td>\n",
       "      <td>0</td>\n",
       "      <td>0</td>\n",
       "      <td>0</td>\n",
       "      <td>...</td>\n",
       "      <td>-0.997728</td>\n",
       "      <td>-0.178940</td>\n",
       "      <td>-0.244337</td>\n",
       "      <td>-0.240169</td>\n",
       "      <td>-0.221636</td>\n",
       "      <td>-0.159490</td>\n",
       "      <td>-0.854542</td>\n",
       "      <td>0.436316</td>\n",
       "      <td>-0.311703</td>\n",
       "      <td>0</td>\n",
       "    </tr>\n",
       "    <tr>\n",
       "      <th>269639</th>\n",
       "      <td>1</td>\n",
       "      <td>0</td>\n",
       "      <td>0</td>\n",
       "      <td>0</td>\n",
       "      <td>0</td>\n",
       "      <td>0</td>\n",
       "      <td>0</td>\n",
       "      <td>0</td>\n",
       "      <td>0</td>\n",
       "      <td>0</td>\n",
       "      <td>...</td>\n",
       "      <td>0.947832</td>\n",
       "      <td>-0.178940</td>\n",
       "      <td>-0.244243</td>\n",
       "      <td>-0.240186</td>\n",
       "      <td>-0.221621</td>\n",
       "      <td>-0.159624</td>\n",
       "      <td>-0.858302</td>\n",
       "      <td>0.445921</td>\n",
       "      <td>-0.305124</td>\n",
       "      <td>0</td>\n",
       "    </tr>\n",
       "    <tr>\n",
       "      <th>269640</th>\n",
       "      <td>1</td>\n",
       "      <td>0</td>\n",
       "      <td>0</td>\n",
       "      <td>0</td>\n",
       "      <td>0</td>\n",
       "      <td>0</td>\n",
       "      <td>0</td>\n",
       "      <td>0</td>\n",
       "      <td>0</td>\n",
       "      <td>0</td>\n",
       "      <td>...</td>\n",
       "      <td>-0.858274</td>\n",
       "      <td>-0.178946</td>\n",
       "      <td>-0.250175</td>\n",
       "      <td>-0.243940</td>\n",
       "      <td>-0.226451</td>\n",
       "      <td>-0.159623</td>\n",
       "      <td>0.488731</td>\n",
       "      <td>-0.315781</td>\n",
       "      <td>0.021393</td>\n",
       "      <td>0</td>\n",
       "    </tr>\n",
       "    <tr>\n",
       "      <th>269641</th>\n",
       "      <td>1</td>\n",
       "      <td>0</td>\n",
       "      <td>0</td>\n",
       "      <td>0</td>\n",
       "      <td>0</td>\n",
       "      <td>0</td>\n",
       "      <td>0</td>\n",
       "      <td>0</td>\n",
       "      <td>0</td>\n",
       "      <td>0</td>\n",
       "      <td>...</td>\n",
       "      <td>0.898332</td>\n",
       "      <td>-0.178940</td>\n",
       "      <td>-0.244267</td>\n",
       "      <td>-0.240184</td>\n",
       "      <td>-0.221634</td>\n",
       "      <td>-0.159625</td>\n",
       "      <td>-0.852680</td>\n",
       "      <td>0.450752</td>\n",
       "      <td>-0.306641</td>\n",
       "      <td>0</td>\n",
       "    </tr>\n",
       "    <tr>\n",
       "      <th>269642</th>\n",
       "      <td>1</td>\n",
       "      <td>0</td>\n",
       "      <td>0</td>\n",
       "      <td>0</td>\n",
       "      <td>0</td>\n",
       "      <td>0</td>\n",
       "      <td>0</td>\n",
       "      <td>0</td>\n",
       "      <td>0</td>\n",
       "      <td>0</td>\n",
       "      <td>...</td>\n",
       "      <td>-0.588891</td>\n",
       "      <td>-0.178785</td>\n",
       "      <td>-0.219341</td>\n",
       "      <td>-0.231216</td>\n",
       "      <td>-0.218044</td>\n",
       "      <td>-0.148237</td>\n",
       "      <td>0.592646</td>\n",
       "      <td>-0.360074</td>\n",
       "      <td>-0.132829</td>\n",
       "      <td>0</td>\n",
       "    </tr>\n",
       "  </tbody>\n",
       "</table>\n",
       "<p>269643 rows × 45 columns</p>\n",
       "</div>"
      ],
      "text/plain": [
       "        ip_1  ip_144  ip_204  ip_205  ip_207  ip_8  not_freq  ip_4  ip_11  \\\n",
       "0          0       0       0       0       0     0         1     0      0   \n",
       "1          0       0       0       0       0     0         1     0      0   \n",
       "2          0       0       0       0       0     0         1     0      0   \n",
       "3          0       0       0       0       0     0         1     0      0   \n",
       "4          0       0       0       0       0     0         1     0      0   \n",
       "...      ...     ...     ...     ...     ...   ...       ...   ...    ...   \n",
       "269638     1       0       0       0       0     0         0     0      0   \n",
       "269639     1       0       0       0       0     0         0     0      0   \n",
       "269640     1       0       0       0       0     0         0     0      0   \n",
       "269641     1       0       0       0       0     0         0     0      0   \n",
       "269642     1       0       0       0       0     0         0     0      0   \n",
       "\n",
       "        dest_ip_130_1_8  ...         0  r_time_var  r_time_std  r_time_mean  \\\n",
       "0                     0  ...  0.754077   -0.178941   -0.244670    -0.239715   \n",
       "1                     0  ... -0.814219   -0.132047    0.277059    -0.183655   \n",
       "2                     0  ... -0.817715   -0.178940   -0.244316    -0.238336   \n",
       "3                     0  ... -0.316040   -0.178946   -0.250146    -0.238243   \n",
       "4                     0  ... -0.770578   -0.178937   -0.242955    -0.240378   \n",
       "...                 ...  ...       ...         ...         ...          ...   \n",
       "269638                0  ... -0.997728   -0.178940   -0.244337    -0.240169   \n",
       "269639                0  ...  0.947832   -0.178940   -0.244243    -0.240186   \n",
       "269640                0  ... -0.858274   -0.178946   -0.250175    -0.243940   \n",
       "269641                0  ...  0.898332   -0.178940   -0.244267    -0.240184   \n",
       "269642                0  ... -0.588891   -0.178785   -0.219341    -0.231216   \n",
       "\n",
       "        r_time_med  r_time_mode  r_s_med_time  r_s_mode_time  r_c_time  Benign  \n",
       "0        -0.221598    -0.159623     -0.652141       0.648299 -0.362176       1  \n",
       "1        -0.225091    -0.159603      0.638875      -0.336711  1.168953       1  \n",
       "2        -0.221617    -0.153063      0.260054      -0.500979 -0.415456       1  \n",
       "3        -0.221523    -0.152942      1.330461      -0.025069 -0.629109       1  \n",
       "4        -0.221754    -0.159628     -0.683835       0.237335 -0.213566       1  \n",
       "...            ...          ...           ...            ...       ...     ...  \n",
       "269638   -0.221636    -0.159490     -0.854542       0.436316 -0.311703       0  \n",
       "269639   -0.221621    -0.159624     -0.858302       0.445921 -0.305124       0  \n",
       "269640   -0.226451    -0.159623      0.488731      -0.315781  0.021393       0  \n",
       "269641   -0.221634    -0.159625     -0.852680       0.450752 -0.306641       0  \n",
       "269642   -0.218044    -0.148237      0.592646      -0.360074 -0.132829       0  \n",
       "\n",
       "[269643 rows x 45 columns]"
      ]
     },
     "execution_count": 146,
     "metadata": {},
     "output_type": "execute_result"
    }
   ],
   "source": [
    "db_create.drop('Malicious' , axis=1)"
   ]
  },
  {
   "cell_type": "code",
   "execution_count": 147,
   "metadata": {},
   "outputs": [],
   "source": [
    "db_create['Benign'] = db_create['Benign'].replace(['1'],'Benign')\n",
    "db_create['Benign'] = db_create['Benign'].replace (['0'],'Malicious')"
   ]
  },
  {
   "cell_type": "code",
   "execution_count": 148,
   "metadata": {},
   "outputs": [
    {
     "data": {
      "text/html": [
       "<div>\n",
       "<style scoped>\n",
       "    .dataframe tbody tr th:only-of-type {\n",
       "        vertical-align: middle;\n",
       "    }\n",
       "\n",
       "    .dataframe tbody tr th {\n",
       "        vertical-align: top;\n",
       "    }\n",
       "\n",
       "    .dataframe thead th {\n",
       "        text-align: right;\n",
       "    }\n",
       "</style>\n",
       "<table border=\"1\" class=\"dataframe\">\n",
       "  <thead>\n",
       "    <tr style=\"text-align: right;\">\n",
       "      <th></th>\n",
       "      <th>ip_1</th>\n",
       "      <th>ip_144</th>\n",
       "      <th>ip_204</th>\n",
       "      <th>ip_205</th>\n",
       "      <th>ip_207</th>\n",
       "      <th>ip_8</th>\n",
       "      <th>not_freq</th>\n",
       "      <th>ip_4</th>\n",
       "      <th>ip_11</th>\n",
       "      <th>dest_ip_130_1_8</th>\n",
       "      <th>...</th>\n",
       "      <th>r_time_var</th>\n",
       "      <th>r_time_std</th>\n",
       "      <th>r_time_mean</th>\n",
       "      <th>r_time_med</th>\n",
       "      <th>r_time_mode</th>\n",
       "      <th>r_s_med_time</th>\n",
       "      <th>r_s_mode_time</th>\n",
       "      <th>r_c_time</th>\n",
       "      <th>Benign</th>\n",
       "      <th>Malicious</th>\n",
       "    </tr>\n",
       "  </thead>\n",
       "  <tbody>\n",
       "    <tr>\n",
       "      <th>0</th>\n",
       "      <td>0</td>\n",
       "      <td>0</td>\n",
       "      <td>0</td>\n",
       "      <td>0</td>\n",
       "      <td>0</td>\n",
       "      <td>0</td>\n",
       "      <td>1</td>\n",
       "      <td>0</td>\n",
       "      <td>0</td>\n",
       "      <td>0</td>\n",
       "      <td>...</td>\n",
       "      <td>-0.178941</td>\n",
       "      <td>-0.244670</td>\n",
       "      <td>-0.239715</td>\n",
       "      <td>-0.221598</td>\n",
       "      <td>-0.159623</td>\n",
       "      <td>-0.652141</td>\n",
       "      <td>0.648299</td>\n",
       "      <td>-0.362176</td>\n",
       "      <td>1</td>\n",
       "      <td>0</td>\n",
       "    </tr>\n",
       "    <tr>\n",
       "      <th>1</th>\n",
       "      <td>0</td>\n",
       "      <td>0</td>\n",
       "      <td>0</td>\n",
       "      <td>0</td>\n",
       "      <td>0</td>\n",
       "      <td>0</td>\n",
       "      <td>1</td>\n",
       "      <td>0</td>\n",
       "      <td>0</td>\n",
       "      <td>0</td>\n",
       "      <td>...</td>\n",
       "      <td>-0.132047</td>\n",
       "      <td>0.277059</td>\n",
       "      <td>-0.183655</td>\n",
       "      <td>-0.225091</td>\n",
       "      <td>-0.159603</td>\n",
       "      <td>0.638875</td>\n",
       "      <td>-0.336711</td>\n",
       "      <td>1.168953</td>\n",
       "      <td>1</td>\n",
       "      <td>0</td>\n",
       "    </tr>\n",
       "    <tr>\n",
       "      <th>2</th>\n",
       "      <td>0</td>\n",
       "      <td>0</td>\n",
       "      <td>0</td>\n",
       "      <td>0</td>\n",
       "      <td>0</td>\n",
       "      <td>0</td>\n",
       "      <td>1</td>\n",
       "      <td>0</td>\n",
       "      <td>0</td>\n",
       "      <td>0</td>\n",
       "      <td>...</td>\n",
       "      <td>-0.178940</td>\n",
       "      <td>-0.244316</td>\n",
       "      <td>-0.238336</td>\n",
       "      <td>-0.221617</td>\n",
       "      <td>-0.153063</td>\n",
       "      <td>0.260054</td>\n",
       "      <td>-0.500979</td>\n",
       "      <td>-0.415456</td>\n",
       "      <td>1</td>\n",
       "      <td>0</td>\n",
       "    </tr>\n",
       "    <tr>\n",
       "      <th>3</th>\n",
       "      <td>0</td>\n",
       "      <td>0</td>\n",
       "      <td>0</td>\n",
       "      <td>0</td>\n",
       "      <td>0</td>\n",
       "      <td>0</td>\n",
       "      <td>1</td>\n",
       "      <td>0</td>\n",
       "      <td>0</td>\n",
       "      <td>0</td>\n",
       "      <td>...</td>\n",
       "      <td>-0.178946</td>\n",
       "      <td>-0.250146</td>\n",
       "      <td>-0.238243</td>\n",
       "      <td>-0.221523</td>\n",
       "      <td>-0.152942</td>\n",
       "      <td>1.330461</td>\n",
       "      <td>-0.025069</td>\n",
       "      <td>-0.629109</td>\n",
       "      <td>1</td>\n",
       "      <td>0</td>\n",
       "    </tr>\n",
       "    <tr>\n",
       "      <th>4</th>\n",
       "      <td>0</td>\n",
       "      <td>0</td>\n",
       "      <td>0</td>\n",
       "      <td>0</td>\n",
       "      <td>0</td>\n",
       "      <td>0</td>\n",
       "      <td>1</td>\n",
       "      <td>0</td>\n",
       "      <td>0</td>\n",
       "      <td>0</td>\n",
       "      <td>...</td>\n",
       "      <td>-0.178937</td>\n",
       "      <td>-0.242955</td>\n",
       "      <td>-0.240378</td>\n",
       "      <td>-0.221754</td>\n",
       "      <td>-0.159628</td>\n",
       "      <td>-0.683835</td>\n",
       "      <td>0.237335</td>\n",
       "      <td>-0.213566</td>\n",
       "      <td>1</td>\n",
       "      <td>0</td>\n",
       "    </tr>\n",
       "  </tbody>\n",
       "</table>\n",
       "<p>5 rows × 46 columns</p>\n",
       "</div>"
      ],
      "text/plain": [
       "   ip_1  ip_144  ip_204  ip_205  ip_207  ip_8  not_freq  ip_4  ip_11  \\\n",
       "0     0       0       0       0       0     0         1     0      0   \n",
       "1     0       0       0       0       0     0         1     0      0   \n",
       "2     0       0       0       0       0     0         1     0      0   \n",
       "3     0       0       0       0       0     0         1     0      0   \n",
       "4     0       0       0       0       0     0         1     0      0   \n",
       "\n",
       "   dest_ip_130_1_8  ...  r_time_var  r_time_std  r_time_mean  r_time_med  \\\n",
       "0                0  ...   -0.178941   -0.244670    -0.239715   -0.221598   \n",
       "1                0  ...   -0.132047    0.277059    -0.183655   -0.225091   \n",
       "2                0  ...   -0.178940   -0.244316    -0.238336   -0.221617   \n",
       "3                0  ...   -0.178946   -0.250146    -0.238243   -0.221523   \n",
       "4                0  ...   -0.178937   -0.242955    -0.240378   -0.221754   \n",
       "\n",
       "   r_time_mode  r_s_med_time  r_s_mode_time  r_c_time  Benign  Malicious  \n",
       "0    -0.159623     -0.652141       0.648299 -0.362176       1          0  \n",
       "1    -0.159603      0.638875      -0.336711  1.168953       1          0  \n",
       "2    -0.153063      0.260054      -0.500979 -0.415456       1          0  \n",
       "3    -0.152942      1.330461      -0.025069 -0.629109       1          0  \n",
       "4    -0.159628     -0.683835       0.237335 -0.213566       1          0  \n",
       "\n",
       "[5 rows x 46 columns]"
      ]
     },
     "execution_count": 148,
     "metadata": {},
     "output_type": "execute_result"
    }
   ],
   "source": [
    "db_create.head()"
   ]
  },
  {
   "cell_type": "code",
   "execution_count": 149,
   "metadata": {},
   "outputs": [
    {
     "data": {
      "text/html": [
       "<div>\n",
       "<style scoped>\n",
       "    .dataframe tbody tr th:only-of-type {\n",
       "        vertical-align: middle;\n",
       "    }\n",
       "\n",
       "    .dataframe tbody tr th {\n",
       "        vertical-align: top;\n",
       "    }\n",
       "\n",
       "    .dataframe thead th {\n",
       "        text-align: right;\n",
       "    }\n",
       "</style>\n",
       "<table border=\"1\" class=\"dataframe\">\n",
       "  <thead>\n",
       "    <tr style=\"text-align: right;\">\n",
       "      <th></th>\n",
       "      <th>ip_1</th>\n",
       "      <th>ip_144</th>\n",
       "      <th>ip_204</th>\n",
       "      <th>ip_205</th>\n",
       "      <th>ip_207</th>\n",
       "      <th>ip_8</th>\n",
       "      <th>not_freq</th>\n",
       "      <th>ip_4</th>\n",
       "      <th>ip_11</th>\n",
       "      <th>dest_ip_130_1_8</th>\n",
       "      <th>...</th>\n",
       "      <th>r_time_var</th>\n",
       "      <th>r_time_std</th>\n",
       "      <th>r_time_mean</th>\n",
       "      <th>r_time_med</th>\n",
       "      <th>r_time_mode</th>\n",
       "      <th>r_s_med_time</th>\n",
       "      <th>r_s_mode_time</th>\n",
       "      <th>r_c_time</th>\n",
       "      <th>Benign</th>\n",
       "      <th>Malicious</th>\n",
       "    </tr>\n",
       "  </thead>\n",
       "  <tbody>\n",
       "    <tr>\n",
       "      <th>0</th>\n",
       "      <td>0</td>\n",
       "      <td>0</td>\n",
       "      <td>0</td>\n",
       "      <td>0</td>\n",
       "      <td>0</td>\n",
       "      <td>0</td>\n",
       "      <td>1</td>\n",
       "      <td>0</td>\n",
       "      <td>0</td>\n",
       "      <td>0</td>\n",
       "      <td>...</td>\n",
       "      <td>-0.178941</td>\n",
       "      <td>-0.244670</td>\n",
       "      <td>-0.239715</td>\n",
       "      <td>-0.221598</td>\n",
       "      <td>-0.159623</td>\n",
       "      <td>-0.652141</td>\n",
       "      <td>0.648299</td>\n",
       "      <td>-0.362176</td>\n",
       "      <td>1</td>\n",
       "      <td>0</td>\n",
       "    </tr>\n",
       "    <tr>\n",
       "      <th>1</th>\n",
       "      <td>0</td>\n",
       "      <td>0</td>\n",
       "      <td>0</td>\n",
       "      <td>0</td>\n",
       "      <td>0</td>\n",
       "      <td>0</td>\n",
       "      <td>1</td>\n",
       "      <td>0</td>\n",
       "      <td>0</td>\n",
       "      <td>0</td>\n",
       "      <td>...</td>\n",
       "      <td>-0.132047</td>\n",
       "      <td>0.277059</td>\n",
       "      <td>-0.183655</td>\n",
       "      <td>-0.225091</td>\n",
       "      <td>-0.159603</td>\n",
       "      <td>0.638875</td>\n",
       "      <td>-0.336711</td>\n",
       "      <td>1.168953</td>\n",
       "      <td>1</td>\n",
       "      <td>0</td>\n",
       "    </tr>\n",
       "    <tr>\n",
       "      <th>2</th>\n",
       "      <td>0</td>\n",
       "      <td>0</td>\n",
       "      <td>0</td>\n",
       "      <td>0</td>\n",
       "      <td>0</td>\n",
       "      <td>0</td>\n",
       "      <td>1</td>\n",
       "      <td>0</td>\n",
       "      <td>0</td>\n",
       "      <td>0</td>\n",
       "      <td>...</td>\n",
       "      <td>-0.178940</td>\n",
       "      <td>-0.244316</td>\n",
       "      <td>-0.238336</td>\n",
       "      <td>-0.221617</td>\n",
       "      <td>-0.153063</td>\n",
       "      <td>0.260054</td>\n",
       "      <td>-0.500979</td>\n",
       "      <td>-0.415456</td>\n",
       "      <td>1</td>\n",
       "      <td>0</td>\n",
       "    </tr>\n",
       "    <tr>\n",
       "      <th>3</th>\n",
       "      <td>0</td>\n",
       "      <td>0</td>\n",
       "      <td>0</td>\n",
       "      <td>0</td>\n",
       "      <td>0</td>\n",
       "      <td>0</td>\n",
       "      <td>1</td>\n",
       "      <td>0</td>\n",
       "      <td>0</td>\n",
       "      <td>0</td>\n",
       "      <td>...</td>\n",
       "      <td>-0.178946</td>\n",
       "      <td>-0.250146</td>\n",
       "      <td>-0.238243</td>\n",
       "      <td>-0.221523</td>\n",
       "      <td>-0.152942</td>\n",
       "      <td>1.330461</td>\n",
       "      <td>-0.025069</td>\n",
       "      <td>-0.629109</td>\n",
       "      <td>1</td>\n",
       "      <td>0</td>\n",
       "    </tr>\n",
       "    <tr>\n",
       "      <th>4</th>\n",
       "      <td>0</td>\n",
       "      <td>0</td>\n",
       "      <td>0</td>\n",
       "      <td>0</td>\n",
       "      <td>0</td>\n",
       "      <td>0</td>\n",
       "      <td>1</td>\n",
       "      <td>0</td>\n",
       "      <td>0</td>\n",
       "      <td>0</td>\n",
       "      <td>...</td>\n",
       "      <td>-0.178937</td>\n",
       "      <td>-0.242955</td>\n",
       "      <td>-0.240378</td>\n",
       "      <td>-0.221754</td>\n",
       "      <td>-0.159628</td>\n",
       "      <td>-0.683835</td>\n",
       "      <td>0.237335</td>\n",
       "      <td>-0.213566</td>\n",
       "      <td>1</td>\n",
       "      <td>0</td>\n",
       "    </tr>\n",
       "  </tbody>\n",
       "</table>\n",
       "<p>5 rows × 46 columns</p>\n",
       "</div>"
      ],
      "text/plain": [
       "   ip_1  ip_144  ip_204  ip_205  ip_207  ip_8  not_freq  ip_4  ip_11  \\\n",
       "0     0       0       0       0       0     0         1     0      0   \n",
       "1     0       0       0       0       0     0         1     0      0   \n",
       "2     0       0       0       0       0     0         1     0      0   \n",
       "3     0       0       0       0       0     0         1     0      0   \n",
       "4     0       0       0       0       0     0         1     0      0   \n",
       "\n",
       "   dest_ip_130_1_8  ...  r_time_var  r_time_std  r_time_mean  r_time_med  \\\n",
       "0                0  ...   -0.178941   -0.244670    -0.239715   -0.221598   \n",
       "1                0  ...   -0.132047    0.277059    -0.183655   -0.225091   \n",
       "2                0  ...   -0.178940   -0.244316    -0.238336   -0.221617   \n",
       "3                0  ...   -0.178946   -0.250146    -0.238243   -0.221523   \n",
       "4                0  ...   -0.178937   -0.242955    -0.240378   -0.221754   \n",
       "\n",
       "   r_time_mode  r_s_med_time  r_s_mode_time  r_c_time  Benign  Malicious  \n",
       "0    -0.159623     -0.652141       0.648299 -0.362176       1          0  \n",
       "1    -0.159603      0.638875      -0.336711  1.168953       1          0  \n",
       "2    -0.153063      0.260054      -0.500979 -0.415456       1          0  \n",
       "3    -0.152942      1.330461      -0.025069 -0.629109       1          0  \n",
       "4    -0.159628     -0.683835       0.237335 -0.213566       1          0  \n",
       "\n",
       "[5 rows x 46 columns]"
      ]
     },
     "execution_count": 149,
     "metadata": {},
     "output_type": "execute_result"
    }
   ],
   "source": [
    "db_create.head()\n"
   ]
  },
  {
   "cell_type": "code",
   "execution_count": 150,
   "metadata": {},
   "outputs": [],
   "source": [
    "db_create.drop('Malicious' , inplace=True , axis=1)"
   ]
  },
  {
   "cell_type": "code",
   "execution_count": 151,
   "metadata": {},
   "outputs": [
    {
     "data": {
      "text/html": [
       "<div>\n",
       "<style scoped>\n",
       "    .dataframe tbody tr th:only-of-type {\n",
       "        vertical-align: middle;\n",
       "    }\n",
       "\n",
       "    .dataframe tbody tr th {\n",
       "        vertical-align: top;\n",
       "    }\n",
       "\n",
       "    .dataframe thead th {\n",
       "        text-align: right;\n",
       "    }\n",
       "</style>\n",
       "<table border=\"1\" class=\"dataframe\">\n",
       "  <thead>\n",
       "    <tr style=\"text-align: right;\">\n",
       "      <th></th>\n",
       "      <th>ip_1</th>\n",
       "      <th>ip_144</th>\n",
       "      <th>ip_204</th>\n",
       "      <th>ip_205</th>\n",
       "      <th>ip_207</th>\n",
       "      <th>ip_8</th>\n",
       "      <th>not_freq</th>\n",
       "      <th>ip_4</th>\n",
       "      <th>ip_11</th>\n",
       "      <th>dest_ip_130_1_8</th>\n",
       "      <th>...</th>\n",
       "      <th>0</th>\n",
       "      <th>r_time_var</th>\n",
       "      <th>r_time_std</th>\n",
       "      <th>r_time_mean</th>\n",
       "      <th>r_time_med</th>\n",
       "      <th>r_time_mode</th>\n",
       "      <th>r_s_med_time</th>\n",
       "      <th>r_s_mode_time</th>\n",
       "      <th>r_c_time</th>\n",
       "      <th>Benign</th>\n",
       "    </tr>\n",
       "  </thead>\n",
       "  <tbody>\n",
       "    <tr>\n",
       "      <th>0</th>\n",
       "      <td>0</td>\n",
       "      <td>0</td>\n",
       "      <td>0</td>\n",
       "      <td>0</td>\n",
       "      <td>0</td>\n",
       "      <td>0</td>\n",
       "      <td>1</td>\n",
       "      <td>0</td>\n",
       "      <td>0</td>\n",
       "      <td>0</td>\n",
       "      <td>...</td>\n",
       "      <td>0.754077</td>\n",
       "      <td>-0.178941</td>\n",
       "      <td>-0.244670</td>\n",
       "      <td>-0.239715</td>\n",
       "      <td>-0.221598</td>\n",
       "      <td>-0.159623</td>\n",
       "      <td>-0.652141</td>\n",
       "      <td>0.648299</td>\n",
       "      <td>-0.362176</td>\n",
       "      <td>1</td>\n",
       "    </tr>\n",
       "    <tr>\n",
       "      <th>1</th>\n",
       "      <td>0</td>\n",
       "      <td>0</td>\n",
       "      <td>0</td>\n",
       "      <td>0</td>\n",
       "      <td>0</td>\n",
       "      <td>0</td>\n",
       "      <td>1</td>\n",
       "      <td>0</td>\n",
       "      <td>0</td>\n",
       "      <td>0</td>\n",
       "      <td>...</td>\n",
       "      <td>-0.814219</td>\n",
       "      <td>-0.132047</td>\n",
       "      <td>0.277059</td>\n",
       "      <td>-0.183655</td>\n",
       "      <td>-0.225091</td>\n",
       "      <td>-0.159603</td>\n",
       "      <td>0.638875</td>\n",
       "      <td>-0.336711</td>\n",
       "      <td>1.168953</td>\n",
       "      <td>1</td>\n",
       "    </tr>\n",
       "    <tr>\n",
       "      <th>2</th>\n",
       "      <td>0</td>\n",
       "      <td>0</td>\n",
       "      <td>0</td>\n",
       "      <td>0</td>\n",
       "      <td>0</td>\n",
       "      <td>0</td>\n",
       "      <td>1</td>\n",
       "      <td>0</td>\n",
       "      <td>0</td>\n",
       "      <td>0</td>\n",
       "      <td>...</td>\n",
       "      <td>-0.817715</td>\n",
       "      <td>-0.178940</td>\n",
       "      <td>-0.244316</td>\n",
       "      <td>-0.238336</td>\n",
       "      <td>-0.221617</td>\n",
       "      <td>-0.153063</td>\n",
       "      <td>0.260054</td>\n",
       "      <td>-0.500979</td>\n",
       "      <td>-0.415456</td>\n",
       "      <td>1</td>\n",
       "    </tr>\n",
       "    <tr>\n",
       "      <th>3</th>\n",
       "      <td>0</td>\n",
       "      <td>0</td>\n",
       "      <td>0</td>\n",
       "      <td>0</td>\n",
       "      <td>0</td>\n",
       "      <td>0</td>\n",
       "      <td>1</td>\n",
       "      <td>0</td>\n",
       "      <td>0</td>\n",
       "      <td>0</td>\n",
       "      <td>...</td>\n",
       "      <td>-0.316040</td>\n",
       "      <td>-0.178946</td>\n",
       "      <td>-0.250146</td>\n",
       "      <td>-0.238243</td>\n",
       "      <td>-0.221523</td>\n",
       "      <td>-0.152942</td>\n",
       "      <td>1.330461</td>\n",
       "      <td>-0.025069</td>\n",
       "      <td>-0.629109</td>\n",
       "      <td>1</td>\n",
       "    </tr>\n",
       "    <tr>\n",
       "      <th>4</th>\n",
       "      <td>0</td>\n",
       "      <td>0</td>\n",
       "      <td>0</td>\n",
       "      <td>0</td>\n",
       "      <td>0</td>\n",
       "      <td>0</td>\n",
       "      <td>1</td>\n",
       "      <td>0</td>\n",
       "      <td>0</td>\n",
       "      <td>0</td>\n",
       "      <td>...</td>\n",
       "      <td>-0.770578</td>\n",
       "      <td>-0.178937</td>\n",
       "      <td>-0.242955</td>\n",
       "      <td>-0.240378</td>\n",
       "      <td>-0.221754</td>\n",
       "      <td>-0.159628</td>\n",
       "      <td>-0.683835</td>\n",
       "      <td>0.237335</td>\n",
       "      <td>-0.213566</td>\n",
       "      <td>1</td>\n",
       "    </tr>\n",
       "  </tbody>\n",
       "</table>\n",
       "<p>5 rows × 45 columns</p>\n",
       "</div>"
      ],
      "text/plain": [
       "   ip_1  ip_144  ip_204  ip_205  ip_207  ip_8  not_freq  ip_4  ip_11  \\\n",
       "0     0       0       0       0       0     0         1     0      0   \n",
       "1     0       0       0       0       0     0         1     0      0   \n",
       "2     0       0       0       0       0     0         1     0      0   \n",
       "3     0       0       0       0       0     0         1     0      0   \n",
       "4     0       0       0       0       0     0         1     0      0   \n",
       "\n",
       "   dest_ip_130_1_8  ...         0  r_time_var  r_time_std  r_time_mean  \\\n",
       "0                0  ...  0.754077   -0.178941   -0.244670    -0.239715   \n",
       "1                0  ... -0.814219   -0.132047    0.277059    -0.183655   \n",
       "2                0  ... -0.817715   -0.178940   -0.244316    -0.238336   \n",
       "3                0  ... -0.316040   -0.178946   -0.250146    -0.238243   \n",
       "4                0  ... -0.770578   -0.178937   -0.242955    -0.240378   \n",
       "\n",
       "   r_time_med  r_time_mode  r_s_med_time  r_s_mode_time  r_c_time  Benign  \n",
       "0   -0.221598    -0.159623     -0.652141       0.648299 -0.362176       1  \n",
       "1   -0.225091    -0.159603      0.638875      -0.336711  1.168953       1  \n",
       "2   -0.221617    -0.153063      0.260054      -0.500979 -0.415456       1  \n",
       "3   -0.221523    -0.152942      1.330461      -0.025069 -0.629109       1  \n",
       "4   -0.221754    -0.159628     -0.683835       0.237335 -0.213566       1  \n",
       "\n",
       "[5 rows x 45 columns]"
      ]
     },
     "execution_count": 151,
     "metadata": {},
     "output_type": "execute_result"
    }
   ],
   "source": [
    "db_create.head()"
   ]
  },
  {
   "cell_type": "code",
   "execution_count": 152,
   "metadata": {},
   "outputs": [],
   "source": [
    "db_create.to_csv(r'C:\\Users\\91742\\Desktop\\Nasscom_Final\\Total-CSVs\\final_data_input_FINAL_Semifinal.csv')"
   ]
  },
  {
   "cell_type": "code",
   "execution_count": 153,
   "metadata": {},
   "outputs": [],
   "source": [
    "db_create['Benign'] = db_create['Benign'].replace(['1'],'Benign')\n",
    "db_create['Benign'] = db_create['Benign'].replace (['0'],'Malicious')"
   ]
  },
  {
   "cell_type": "code",
   "execution_count": 154,
   "metadata": {},
   "outputs": [
    {
     "data": {
      "text/html": [
       "<div>\n",
       "<style scoped>\n",
       "    .dataframe tbody tr th:only-of-type {\n",
       "        vertical-align: middle;\n",
       "    }\n",
       "\n",
       "    .dataframe tbody tr th {\n",
       "        vertical-align: top;\n",
       "    }\n",
       "\n",
       "    .dataframe thead th {\n",
       "        text-align: right;\n",
       "    }\n",
       "</style>\n",
       "<table border=\"1\" class=\"dataframe\">\n",
       "  <thead>\n",
       "    <tr style=\"text-align: right;\">\n",
       "      <th></th>\n",
       "      <th>ip_1</th>\n",
       "      <th>ip_144</th>\n",
       "      <th>ip_204</th>\n",
       "      <th>ip_205</th>\n",
       "      <th>ip_207</th>\n",
       "      <th>ip_8</th>\n",
       "      <th>not_freq</th>\n",
       "      <th>ip_4</th>\n",
       "      <th>ip_11</th>\n",
       "      <th>dest_ip_130_1_8</th>\n",
       "      <th>...</th>\n",
       "      <th>0</th>\n",
       "      <th>r_time_var</th>\n",
       "      <th>r_time_std</th>\n",
       "      <th>r_time_mean</th>\n",
       "      <th>r_time_med</th>\n",
       "      <th>r_time_mode</th>\n",
       "      <th>r_s_med_time</th>\n",
       "      <th>r_s_mode_time</th>\n",
       "      <th>r_c_time</th>\n",
       "      <th>Benign</th>\n",
       "    </tr>\n",
       "  </thead>\n",
       "  <tbody>\n",
       "    <tr>\n",
       "      <th>0</th>\n",
       "      <td>0</td>\n",
       "      <td>0</td>\n",
       "      <td>0</td>\n",
       "      <td>0</td>\n",
       "      <td>0</td>\n",
       "      <td>0</td>\n",
       "      <td>1</td>\n",
       "      <td>0</td>\n",
       "      <td>0</td>\n",
       "      <td>0</td>\n",
       "      <td>...</td>\n",
       "      <td>0.754077</td>\n",
       "      <td>-0.178941</td>\n",
       "      <td>-0.244670</td>\n",
       "      <td>-0.239715</td>\n",
       "      <td>-0.221598</td>\n",
       "      <td>-0.159623</td>\n",
       "      <td>-0.652141</td>\n",
       "      <td>0.648299</td>\n",
       "      <td>-0.362176</td>\n",
       "      <td>1</td>\n",
       "    </tr>\n",
       "    <tr>\n",
       "      <th>1</th>\n",
       "      <td>0</td>\n",
       "      <td>0</td>\n",
       "      <td>0</td>\n",
       "      <td>0</td>\n",
       "      <td>0</td>\n",
       "      <td>0</td>\n",
       "      <td>1</td>\n",
       "      <td>0</td>\n",
       "      <td>0</td>\n",
       "      <td>0</td>\n",
       "      <td>...</td>\n",
       "      <td>-0.814219</td>\n",
       "      <td>-0.132047</td>\n",
       "      <td>0.277059</td>\n",
       "      <td>-0.183655</td>\n",
       "      <td>-0.225091</td>\n",
       "      <td>-0.159603</td>\n",
       "      <td>0.638875</td>\n",
       "      <td>-0.336711</td>\n",
       "      <td>1.168953</td>\n",
       "      <td>1</td>\n",
       "    </tr>\n",
       "    <tr>\n",
       "      <th>2</th>\n",
       "      <td>0</td>\n",
       "      <td>0</td>\n",
       "      <td>0</td>\n",
       "      <td>0</td>\n",
       "      <td>0</td>\n",
       "      <td>0</td>\n",
       "      <td>1</td>\n",
       "      <td>0</td>\n",
       "      <td>0</td>\n",
       "      <td>0</td>\n",
       "      <td>...</td>\n",
       "      <td>-0.817715</td>\n",
       "      <td>-0.178940</td>\n",
       "      <td>-0.244316</td>\n",
       "      <td>-0.238336</td>\n",
       "      <td>-0.221617</td>\n",
       "      <td>-0.153063</td>\n",
       "      <td>0.260054</td>\n",
       "      <td>-0.500979</td>\n",
       "      <td>-0.415456</td>\n",
       "      <td>1</td>\n",
       "    </tr>\n",
       "    <tr>\n",
       "      <th>3</th>\n",
       "      <td>0</td>\n",
       "      <td>0</td>\n",
       "      <td>0</td>\n",
       "      <td>0</td>\n",
       "      <td>0</td>\n",
       "      <td>0</td>\n",
       "      <td>1</td>\n",
       "      <td>0</td>\n",
       "      <td>0</td>\n",
       "      <td>0</td>\n",
       "      <td>...</td>\n",
       "      <td>-0.316040</td>\n",
       "      <td>-0.178946</td>\n",
       "      <td>-0.250146</td>\n",
       "      <td>-0.238243</td>\n",
       "      <td>-0.221523</td>\n",
       "      <td>-0.152942</td>\n",
       "      <td>1.330461</td>\n",
       "      <td>-0.025069</td>\n",
       "      <td>-0.629109</td>\n",
       "      <td>1</td>\n",
       "    </tr>\n",
       "    <tr>\n",
       "      <th>4</th>\n",
       "      <td>0</td>\n",
       "      <td>0</td>\n",
       "      <td>0</td>\n",
       "      <td>0</td>\n",
       "      <td>0</td>\n",
       "      <td>0</td>\n",
       "      <td>1</td>\n",
       "      <td>0</td>\n",
       "      <td>0</td>\n",
       "      <td>0</td>\n",
       "      <td>...</td>\n",
       "      <td>-0.770578</td>\n",
       "      <td>-0.178937</td>\n",
       "      <td>-0.242955</td>\n",
       "      <td>-0.240378</td>\n",
       "      <td>-0.221754</td>\n",
       "      <td>-0.159628</td>\n",
       "      <td>-0.683835</td>\n",
       "      <td>0.237335</td>\n",
       "      <td>-0.213566</td>\n",
       "      <td>1</td>\n",
       "    </tr>\n",
       "  </tbody>\n",
       "</table>\n",
       "<p>5 rows × 45 columns</p>\n",
       "</div>"
      ],
      "text/plain": [
       "   ip_1  ip_144  ip_204  ip_205  ip_207  ip_8  not_freq  ip_4  ip_11  \\\n",
       "0     0       0       0       0       0     0         1     0      0   \n",
       "1     0       0       0       0       0     0         1     0      0   \n",
       "2     0       0       0       0       0     0         1     0      0   \n",
       "3     0       0       0       0       0     0         1     0      0   \n",
       "4     0       0       0       0       0     0         1     0      0   \n",
       "\n",
       "   dest_ip_130_1_8  ...         0  r_time_var  r_time_std  r_time_mean  \\\n",
       "0                0  ...  0.754077   -0.178941   -0.244670    -0.239715   \n",
       "1                0  ... -0.814219   -0.132047    0.277059    -0.183655   \n",
       "2                0  ... -0.817715   -0.178940   -0.244316    -0.238336   \n",
       "3                0  ... -0.316040   -0.178946   -0.250146    -0.238243   \n",
       "4                0  ... -0.770578   -0.178937   -0.242955    -0.240378   \n",
       "\n",
       "   r_time_med  r_time_mode  r_s_med_time  r_s_mode_time  r_c_time  Benign  \n",
       "0   -0.221598    -0.159623     -0.652141       0.648299 -0.362176       1  \n",
       "1   -0.225091    -0.159603      0.638875      -0.336711  1.168953       1  \n",
       "2   -0.221617    -0.153063      0.260054      -0.500979 -0.415456       1  \n",
       "3   -0.221523    -0.152942      1.330461      -0.025069 -0.629109       1  \n",
       "4   -0.221754    -0.159628     -0.683835       0.237335 -0.213566       1  \n",
       "\n",
       "[5 rows x 45 columns]"
      ]
     },
     "execution_count": 154,
     "metadata": {},
     "output_type": "execute_result"
    }
   ],
   "source": [
    "db_create.head()"
   ]
  },
  {
   "cell_type": "code",
   "execution_count": 155,
   "metadata": {},
   "outputs": [],
   "source": [
    "db_create['Benign'] = db_create['Benign'].replace(['1'],\"Benign\")\n",
    "db_create['Benign'] = db_create['Benign'].replace (['0'],\"Malicious\")"
   ]
  },
  {
   "cell_type": "code",
   "execution_count": 156,
   "metadata": {},
   "outputs": [
    {
     "data": {
      "text/html": [
       "<div>\n",
       "<style scoped>\n",
       "    .dataframe tbody tr th:only-of-type {\n",
       "        vertical-align: middle;\n",
       "    }\n",
       "\n",
       "    .dataframe tbody tr th {\n",
       "        vertical-align: top;\n",
       "    }\n",
       "\n",
       "    .dataframe thead th {\n",
       "        text-align: right;\n",
       "    }\n",
       "</style>\n",
       "<table border=\"1\" class=\"dataframe\">\n",
       "  <thead>\n",
       "    <tr style=\"text-align: right;\">\n",
       "      <th></th>\n",
       "      <th>ip_1</th>\n",
       "      <th>ip_144</th>\n",
       "      <th>ip_204</th>\n",
       "      <th>ip_205</th>\n",
       "      <th>ip_207</th>\n",
       "      <th>ip_8</th>\n",
       "      <th>not_freq</th>\n",
       "      <th>ip_4</th>\n",
       "      <th>ip_11</th>\n",
       "      <th>dest_ip_130_1_8</th>\n",
       "      <th>...</th>\n",
       "      <th>0</th>\n",
       "      <th>r_time_var</th>\n",
       "      <th>r_time_std</th>\n",
       "      <th>r_time_mean</th>\n",
       "      <th>r_time_med</th>\n",
       "      <th>r_time_mode</th>\n",
       "      <th>r_s_med_time</th>\n",
       "      <th>r_s_mode_time</th>\n",
       "      <th>r_c_time</th>\n",
       "      <th>Benign</th>\n",
       "    </tr>\n",
       "  </thead>\n",
       "  <tbody>\n",
       "    <tr>\n",
       "      <th>0</th>\n",
       "      <td>0</td>\n",
       "      <td>0</td>\n",
       "      <td>0</td>\n",
       "      <td>0</td>\n",
       "      <td>0</td>\n",
       "      <td>0</td>\n",
       "      <td>1</td>\n",
       "      <td>0</td>\n",
       "      <td>0</td>\n",
       "      <td>0</td>\n",
       "      <td>...</td>\n",
       "      <td>0.754077</td>\n",
       "      <td>-0.178941</td>\n",
       "      <td>-0.244670</td>\n",
       "      <td>-0.239715</td>\n",
       "      <td>-0.221598</td>\n",
       "      <td>-0.159623</td>\n",
       "      <td>-0.652141</td>\n",
       "      <td>0.648299</td>\n",
       "      <td>-0.362176</td>\n",
       "      <td>1</td>\n",
       "    </tr>\n",
       "    <tr>\n",
       "      <th>1</th>\n",
       "      <td>0</td>\n",
       "      <td>0</td>\n",
       "      <td>0</td>\n",
       "      <td>0</td>\n",
       "      <td>0</td>\n",
       "      <td>0</td>\n",
       "      <td>1</td>\n",
       "      <td>0</td>\n",
       "      <td>0</td>\n",
       "      <td>0</td>\n",
       "      <td>...</td>\n",
       "      <td>-0.814219</td>\n",
       "      <td>-0.132047</td>\n",
       "      <td>0.277059</td>\n",
       "      <td>-0.183655</td>\n",
       "      <td>-0.225091</td>\n",
       "      <td>-0.159603</td>\n",
       "      <td>0.638875</td>\n",
       "      <td>-0.336711</td>\n",
       "      <td>1.168953</td>\n",
       "      <td>1</td>\n",
       "    </tr>\n",
       "    <tr>\n",
       "      <th>2</th>\n",
       "      <td>0</td>\n",
       "      <td>0</td>\n",
       "      <td>0</td>\n",
       "      <td>0</td>\n",
       "      <td>0</td>\n",
       "      <td>0</td>\n",
       "      <td>1</td>\n",
       "      <td>0</td>\n",
       "      <td>0</td>\n",
       "      <td>0</td>\n",
       "      <td>...</td>\n",
       "      <td>-0.817715</td>\n",
       "      <td>-0.178940</td>\n",
       "      <td>-0.244316</td>\n",
       "      <td>-0.238336</td>\n",
       "      <td>-0.221617</td>\n",
       "      <td>-0.153063</td>\n",
       "      <td>0.260054</td>\n",
       "      <td>-0.500979</td>\n",
       "      <td>-0.415456</td>\n",
       "      <td>1</td>\n",
       "    </tr>\n",
       "    <tr>\n",
       "      <th>3</th>\n",
       "      <td>0</td>\n",
       "      <td>0</td>\n",
       "      <td>0</td>\n",
       "      <td>0</td>\n",
       "      <td>0</td>\n",
       "      <td>0</td>\n",
       "      <td>1</td>\n",
       "      <td>0</td>\n",
       "      <td>0</td>\n",
       "      <td>0</td>\n",
       "      <td>...</td>\n",
       "      <td>-0.316040</td>\n",
       "      <td>-0.178946</td>\n",
       "      <td>-0.250146</td>\n",
       "      <td>-0.238243</td>\n",
       "      <td>-0.221523</td>\n",
       "      <td>-0.152942</td>\n",
       "      <td>1.330461</td>\n",
       "      <td>-0.025069</td>\n",
       "      <td>-0.629109</td>\n",
       "      <td>1</td>\n",
       "    </tr>\n",
       "    <tr>\n",
       "      <th>4</th>\n",
       "      <td>0</td>\n",
       "      <td>0</td>\n",
       "      <td>0</td>\n",
       "      <td>0</td>\n",
       "      <td>0</td>\n",
       "      <td>0</td>\n",
       "      <td>1</td>\n",
       "      <td>0</td>\n",
       "      <td>0</td>\n",
       "      <td>0</td>\n",
       "      <td>...</td>\n",
       "      <td>-0.770578</td>\n",
       "      <td>-0.178937</td>\n",
       "      <td>-0.242955</td>\n",
       "      <td>-0.240378</td>\n",
       "      <td>-0.221754</td>\n",
       "      <td>-0.159628</td>\n",
       "      <td>-0.683835</td>\n",
       "      <td>0.237335</td>\n",
       "      <td>-0.213566</td>\n",
       "      <td>1</td>\n",
       "    </tr>\n",
       "  </tbody>\n",
       "</table>\n",
       "<p>5 rows × 45 columns</p>\n",
       "</div>"
      ],
      "text/plain": [
       "   ip_1  ip_144  ip_204  ip_205  ip_207  ip_8  not_freq  ip_4  ip_11  \\\n",
       "0     0       0       0       0       0     0         1     0      0   \n",
       "1     0       0       0       0       0     0         1     0      0   \n",
       "2     0       0       0       0       0     0         1     0      0   \n",
       "3     0       0       0       0       0     0         1     0      0   \n",
       "4     0       0       0       0       0     0         1     0      0   \n",
       "\n",
       "   dest_ip_130_1_8  ...         0  r_time_var  r_time_std  r_time_mean  \\\n",
       "0                0  ...  0.754077   -0.178941   -0.244670    -0.239715   \n",
       "1                0  ... -0.814219   -0.132047    0.277059    -0.183655   \n",
       "2                0  ... -0.817715   -0.178940   -0.244316    -0.238336   \n",
       "3                0  ... -0.316040   -0.178946   -0.250146    -0.238243   \n",
       "4                0  ... -0.770578   -0.178937   -0.242955    -0.240378   \n",
       "\n",
       "   r_time_med  r_time_mode  r_s_med_time  r_s_mode_time  r_c_time  Benign  \n",
       "0   -0.221598    -0.159623     -0.652141       0.648299 -0.362176       1  \n",
       "1   -0.225091    -0.159603      0.638875      -0.336711  1.168953       1  \n",
       "2   -0.221617    -0.153063      0.260054      -0.500979 -0.415456       1  \n",
       "3   -0.221523    -0.152942      1.330461      -0.025069 -0.629109       1  \n",
       "4   -0.221754    -0.159628     -0.683835       0.237335 -0.213566       1  \n",
       "\n",
       "[5 rows x 45 columns]"
      ]
     },
     "execution_count": 156,
     "metadata": {},
     "output_type": "execute_result"
    }
   ],
   "source": [
    "db_create.head()\n"
   ]
  },
  {
   "cell_type": "code",
   "execution_count": 157,
   "metadata": {},
   "outputs": [],
   "source": [
    "db_create['Benign'] = db_create['Benign'].replace([1],'Benign')\n",
    "db_create['Benign'] = db_create['Benign'].replace ([0],'Malicious')"
   ]
  },
  {
   "cell_type": "code",
   "execution_count": 158,
   "metadata": {},
   "outputs": [
    {
     "data": {
      "text/html": [
       "<div>\n",
       "<style scoped>\n",
       "    .dataframe tbody tr th:only-of-type {\n",
       "        vertical-align: middle;\n",
       "    }\n",
       "\n",
       "    .dataframe tbody tr th {\n",
       "        vertical-align: top;\n",
       "    }\n",
       "\n",
       "    .dataframe thead th {\n",
       "        text-align: right;\n",
       "    }\n",
       "</style>\n",
       "<table border=\"1\" class=\"dataframe\">\n",
       "  <thead>\n",
       "    <tr style=\"text-align: right;\">\n",
       "      <th></th>\n",
       "      <th>ip_1</th>\n",
       "      <th>ip_144</th>\n",
       "      <th>ip_204</th>\n",
       "      <th>ip_205</th>\n",
       "      <th>ip_207</th>\n",
       "      <th>ip_8</th>\n",
       "      <th>not_freq</th>\n",
       "      <th>ip_4</th>\n",
       "      <th>ip_11</th>\n",
       "      <th>dest_ip_130_1_8</th>\n",
       "      <th>...</th>\n",
       "      <th>0</th>\n",
       "      <th>r_time_var</th>\n",
       "      <th>r_time_std</th>\n",
       "      <th>r_time_mean</th>\n",
       "      <th>r_time_med</th>\n",
       "      <th>r_time_mode</th>\n",
       "      <th>r_s_med_time</th>\n",
       "      <th>r_s_mode_time</th>\n",
       "      <th>r_c_time</th>\n",
       "      <th>Benign</th>\n",
       "    </tr>\n",
       "  </thead>\n",
       "  <tbody>\n",
       "    <tr>\n",
       "      <th>0</th>\n",
       "      <td>0</td>\n",
       "      <td>0</td>\n",
       "      <td>0</td>\n",
       "      <td>0</td>\n",
       "      <td>0</td>\n",
       "      <td>0</td>\n",
       "      <td>1</td>\n",
       "      <td>0</td>\n",
       "      <td>0</td>\n",
       "      <td>0</td>\n",
       "      <td>...</td>\n",
       "      <td>0.754077</td>\n",
       "      <td>-0.178941</td>\n",
       "      <td>-0.244670</td>\n",
       "      <td>-0.239715</td>\n",
       "      <td>-0.221598</td>\n",
       "      <td>-0.159623</td>\n",
       "      <td>-0.652141</td>\n",
       "      <td>0.648299</td>\n",
       "      <td>-0.362176</td>\n",
       "      <td>Benign</td>\n",
       "    </tr>\n",
       "    <tr>\n",
       "      <th>1</th>\n",
       "      <td>0</td>\n",
       "      <td>0</td>\n",
       "      <td>0</td>\n",
       "      <td>0</td>\n",
       "      <td>0</td>\n",
       "      <td>0</td>\n",
       "      <td>1</td>\n",
       "      <td>0</td>\n",
       "      <td>0</td>\n",
       "      <td>0</td>\n",
       "      <td>...</td>\n",
       "      <td>-0.814219</td>\n",
       "      <td>-0.132047</td>\n",
       "      <td>0.277059</td>\n",
       "      <td>-0.183655</td>\n",
       "      <td>-0.225091</td>\n",
       "      <td>-0.159603</td>\n",
       "      <td>0.638875</td>\n",
       "      <td>-0.336711</td>\n",
       "      <td>1.168953</td>\n",
       "      <td>Benign</td>\n",
       "    </tr>\n",
       "    <tr>\n",
       "      <th>2</th>\n",
       "      <td>0</td>\n",
       "      <td>0</td>\n",
       "      <td>0</td>\n",
       "      <td>0</td>\n",
       "      <td>0</td>\n",
       "      <td>0</td>\n",
       "      <td>1</td>\n",
       "      <td>0</td>\n",
       "      <td>0</td>\n",
       "      <td>0</td>\n",
       "      <td>...</td>\n",
       "      <td>-0.817715</td>\n",
       "      <td>-0.178940</td>\n",
       "      <td>-0.244316</td>\n",
       "      <td>-0.238336</td>\n",
       "      <td>-0.221617</td>\n",
       "      <td>-0.153063</td>\n",
       "      <td>0.260054</td>\n",
       "      <td>-0.500979</td>\n",
       "      <td>-0.415456</td>\n",
       "      <td>Benign</td>\n",
       "    </tr>\n",
       "    <tr>\n",
       "      <th>3</th>\n",
       "      <td>0</td>\n",
       "      <td>0</td>\n",
       "      <td>0</td>\n",
       "      <td>0</td>\n",
       "      <td>0</td>\n",
       "      <td>0</td>\n",
       "      <td>1</td>\n",
       "      <td>0</td>\n",
       "      <td>0</td>\n",
       "      <td>0</td>\n",
       "      <td>...</td>\n",
       "      <td>-0.316040</td>\n",
       "      <td>-0.178946</td>\n",
       "      <td>-0.250146</td>\n",
       "      <td>-0.238243</td>\n",
       "      <td>-0.221523</td>\n",
       "      <td>-0.152942</td>\n",
       "      <td>1.330461</td>\n",
       "      <td>-0.025069</td>\n",
       "      <td>-0.629109</td>\n",
       "      <td>Benign</td>\n",
       "    </tr>\n",
       "    <tr>\n",
       "      <th>4</th>\n",
       "      <td>0</td>\n",
       "      <td>0</td>\n",
       "      <td>0</td>\n",
       "      <td>0</td>\n",
       "      <td>0</td>\n",
       "      <td>0</td>\n",
       "      <td>1</td>\n",
       "      <td>0</td>\n",
       "      <td>0</td>\n",
       "      <td>0</td>\n",
       "      <td>...</td>\n",
       "      <td>-0.770578</td>\n",
       "      <td>-0.178937</td>\n",
       "      <td>-0.242955</td>\n",
       "      <td>-0.240378</td>\n",
       "      <td>-0.221754</td>\n",
       "      <td>-0.159628</td>\n",
       "      <td>-0.683835</td>\n",
       "      <td>0.237335</td>\n",
       "      <td>-0.213566</td>\n",
       "      <td>Benign</td>\n",
       "    </tr>\n",
       "  </tbody>\n",
       "</table>\n",
       "<p>5 rows × 45 columns</p>\n",
       "</div>"
      ],
      "text/plain": [
       "   ip_1  ip_144  ip_204  ip_205  ip_207  ip_8  not_freq  ip_4  ip_11  \\\n",
       "0     0       0       0       0       0     0         1     0      0   \n",
       "1     0       0       0       0       0     0         1     0      0   \n",
       "2     0       0       0       0       0     0         1     0      0   \n",
       "3     0       0       0       0       0     0         1     0      0   \n",
       "4     0       0       0       0       0     0         1     0      0   \n",
       "\n",
       "   dest_ip_130_1_8  ...         0  r_time_var  r_time_std  r_time_mean  \\\n",
       "0                0  ...  0.754077   -0.178941   -0.244670    -0.239715   \n",
       "1                0  ... -0.814219   -0.132047    0.277059    -0.183655   \n",
       "2                0  ... -0.817715   -0.178940   -0.244316    -0.238336   \n",
       "3                0  ... -0.316040   -0.178946   -0.250146    -0.238243   \n",
       "4                0  ... -0.770578   -0.178937   -0.242955    -0.240378   \n",
       "\n",
       "   r_time_med  r_time_mode  r_s_med_time  r_s_mode_time  r_c_time  Benign  \n",
       "0   -0.221598    -0.159623     -0.652141       0.648299 -0.362176  Benign  \n",
       "1   -0.225091    -0.159603      0.638875      -0.336711  1.168953  Benign  \n",
       "2   -0.221617    -0.153063      0.260054      -0.500979 -0.415456  Benign  \n",
       "3   -0.221523    -0.152942      1.330461      -0.025069 -0.629109  Benign  \n",
       "4   -0.221754    -0.159628     -0.683835       0.237335 -0.213566  Benign  \n",
       "\n",
       "[5 rows x 45 columns]"
      ]
     },
     "execution_count": 158,
     "metadata": {},
     "output_type": "execute_result"
    }
   ],
   "source": [
    "db_create.head()"
   ]
  },
  {
   "cell_type": "code",
   "execution_count": 159,
   "metadata": {},
   "outputs": [],
   "source": [
    "db_create.to_csv(r'C:\\Users\\91742\\Desktop\\Nasscom_Final\\Total-CSVs\\final_data_input_LAST_FINAL.csv')"
   ]
  },
  {
   "cell_type": "code",
   "execution_count": null,
   "metadata": {},
   "outputs": [],
   "source": []
  }
 ],
 "metadata": {
  "kernelspec": {
   "display_name": "Python 3",
   "language": "python",
   "name": "python3"
  },
  "language_info": {
   "codemirror_mode": {
    "name": "ipython",
    "version": 3
   },
   "file_extension": ".py",
   "mimetype": "text/x-python",
   "name": "python",
   "nbconvert_exporter": "python",
   "pygments_lexer": "ipython3",
   "version": "3.8.3"
  }
 },
 "nbformat": 4,
 "nbformat_minor": 4
}
